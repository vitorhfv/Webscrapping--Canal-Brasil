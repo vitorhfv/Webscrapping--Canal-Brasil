{
 "cells": [
  {
   "cell_type": "markdown",
   "metadata": {},
   "source": [
    "Connected to .venv (Python 3.13.3)"
   ]
  },
  {
   "cell_type": "code",
   "execution_count": null,
   "id": "07bdcec7-2179-4b08-9966-387f569f3069",
   "metadata": {},
   "outputs": [
    {
     "ename": "FileNotFoundError",
     "evalue": "[Errno 2] No such file or directory: 'dataraw.csv'",
     "output_type": "error",
     "traceback": [
      "\u001b[31m---------------------------------------------------------------------------\u001b[39m",
      "\u001b[31mFileNotFoundError\u001b[39m                         Traceback (most recent call last)",
      "\u001b[36mCell\u001b[39m\u001b[36m \u001b[39m\u001b[32mIn[1]\u001b[39m\u001b[32m, line 3\u001b[39m\n\u001b[32m      1\u001b[39m \u001b[38;5;28;01mimport\u001b[39;00m\u001b[38;5;250m \u001b[39m\u001b[34;01mpandas\u001b[39;00m\u001b[38;5;250m \u001b[39m\u001b[38;5;28;01mas\u001b[39;00m\u001b[38;5;250m \u001b[39m\u001b[34;01mpd\u001b[39;00m\n\u001b[32m----> \u001b[39m\u001b[32m3\u001b[39m df = \u001b[43mpd\u001b[49m\u001b[43m.\u001b[49m\u001b[43mread_csv\u001b[49m\u001b[43m(\u001b[49m\u001b[33;43m'\u001b[39;49m\u001b[33;43mdataraw.csv\u001b[39;49m\u001b[33;43m'\u001b[39;49m\u001b[43m)\u001b[49m\n\u001b[32m      5\u001b[39m \u001b[38;5;66;03m# Mostra as 5 primeiras linhas\u001b[39;00m\n\u001b[32m      6\u001b[39m \u001b[38;5;28mprint\u001b[39m(df.head())\n",
      "\u001b[36mFile \u001b[39m\u001b[32mc:\\Users\\Felli\\.code\\.venv\\Lib\\site-packages\\pandas\\io\\parsers\\readers.py:1026\u001b[39m, in \u001b[36mread_csv\u001b[39m\u001b[34m(filepath_or_buffer, sep, delimiter, header, names, index_col, usecols, dtype, engine, converters, true_values, false_values, skipinitialspace, skiprows, skipfooter, nrows, na_values, keep_default_na, na_filter, verbose, skip_blank_lines, parse_dates, infer_datetime_format, keep_date_col, date_parser, date_format, dayfirst, cache_dates, iterator, chunksize, compression, thousands, decimal, lineterminator, quotechar, quoting, doublequote, escapechar, comment, encoding, encoding_errors, dialect, on_bad_lines, delim_whitespace, low_memory, memory_map, float_precision, storage_options, dtype_backend)\u001b[39m\n\u001b[32m   1013\u001b[39m kwds_defaults = _refine_defaults_read(\n\u001b[32m   1014\u001b[39m     dialect,\n\u001b[32m   1015\u001b[39m     delimiter,\n\u001b[32m   (...)\u001b[39m\u001b[32m   1022\u001b[39m     dtype_backend=dtype_backend,\n\u001b[32m   1023\u001b[39m )\n\u001b[32m   1024\u001b[39m kwds.update(kwds_defaults)\n\u001b[32m-> \u001b[39m\u001b[32m1026\u001b[39m \u001b[38;5;28;01mreturn\u001b[39;00m \u001b[43m_read\u001b[49m\u001b[43m(\u001b[49m\u001b[43mfilepath_or_buffer\u001b[49m\u001b[43m,\u001b[49m\u001b[43m \u001b[49m\u001b[43mkwds\u001b[49m\u001b[43m)\u001b[49m\n",
      "\u001b[36mFile \u001b[39m\u001b[32mc:\\Users\\Felli\\.code\\.venv\\Lib\\site-packages\\pandas\\io\\parsers\\readers.py:620\u001b[39m, in \u001b[36m_read\u001b[39m\u001b[34m(filepath_or_buffer, kwds)\u001b[39m\n\u001b[32m    617\u001b[39m _validate_names(kwds.get(\u001b[33m\"\u001b[39m\u001b[33mnames\u001b[39m\u001b[33m\"\u001b[39m, \u001b[38;5;28;01mNone\u001b[39;00m))\n\u001b[32m    619\u001b[39m \u001b[38;5;66;03m# Create the parser.\u001b[39;00m\n\u001b[32m--> \u001b[39m\u001b[32m620\u001b[39m parser = \u001b[43mTextFileReader\u001b[49m\u001b[43m(\u001b[49m\u001b[43mfilepath_or_buffer\u001b[49m\u001b[43m,\u001b[49m\u001b[43m \u001b[49m\u001b[43m*\u001b[49m\u001b[43m*\u001b[49m\u001b[43mkwds\u001b[49m\u001b[43m)\u001b[49m\n\u001b[32m    622\u001b[39m \u001b[38;5;28;01mif\u001b[39;00m chunksize \u001b[38;5;129;01mor\u001b[39;00m iterator:\n\u001b[32m    623\u001b[39m     \u001b[38;5;28;01mreturn\u001b[39;00m parser\n",
      "\u001b[36mFile \u001b[39m\u001b[32mc:\\Users\\Felli\\.code\\.venv\\Lib\\site-packages\\pandas\\io\\parsers\\readers.py:1620\u001b[39m, in \u001b[36mTextFileReader.__init__\u001b[39m\u001b[34m(self, f, engine, **kwds)\u001b[39m\n\u001b[32m   1617\u001b[39m     \u001b[38;5;28mself\u001b[39m.options[\u001b[33m\"\u001b[39m\u001b[33mhas_index_names\u001b[39m\u001b[33m\"\u001b[39m] = kwds[\u001b[33m\"\u001b[39m\u001b[33mhas_index_names\u001b[39m\u001b[33m\"\u001b[39m]\n\u001b[32m   1619\u001b[39m \u001b[38;5;28mself\u001b[39m.handles: IOHandles | \u001b[38;5;28;01mNone\u001b[39;00m = \u001b[38;5;28;01mNone\u001b[39;00m\n\u001b[32m-> \u001b[39m\u001b[32m1620\u001b[39m \u001b[38;5;28mself\u001b[39m._engine = \u001b[38;5;28;43mself\u001b[39;49m\u001b[43m.\u001b[49m\u001b[43m_make_engine\u001b[49m\u001b[43m(\u001b[49m\u001b[43mf\u001b[49m\u001b[43m,\u001b[49m\u001b[43m \u001b[49m\u001b[38;5;28;43mself\u001b[39;49m\u001b[43m.\u001b[49m\u001b[43mengine\u001b[49m\u001b[43m)\u001b[49m\n",
      "\u001b[36mFile \u001b[39m\u001b[32mc:\\Users\\Felli\\.code\\.venv\\Lib\\site-packages\\pandas\\io\\parsers\\readers.py:1880\u001b[39m, in \u001b[36mTextFileReader._make_engine\u001b[39m\u001b[34m(self, f, engine)\u001b[39m\n\u001b[32m   1878\u001b[39m     \u001b[38;5;28;01mif\u001b[39;00m \u001b[33m\"\u001b[39m\u001b[33mb\u001b[39m\u001b[33m\"\u001b[39m \u001b[38;5;129;01mnot\u001b[39;00m \u001b[38;5;129;01min\u001b[39;00m mode:\n\u001b[32m   1879\u001b[39m         mode += \u001b[33m\"\u001b[39m\u001b[33mb\u001b[39m\u001b[33m\"\u001b[39m\n\u001b[32m-> \u001b[39m\u001b[32m1880\u001b[39m \u001b[38;5;28mself\u001b[39m.handles = \u001b[43mget_handle\u001b[49m\u001b[43m(\u001b[49m\n\u001b[32m   1881\u001b[39m \u001b[43m    \u001b[49m\u001b[43mf\u001b[49m\u001b[43m,\u001b[49m\n\u001b[32m   1882\u001b[39m \u001b[43m    \u001b[49m\u001b[43mmode\u001b[49m\u001b[43m,\u001b[49m\n\u001b[32m   1883\u001b[39m \u001b[43m    \u001b[49m\u001b[43mencoding\u001b[49m\u001b[43m=\u001b[49m\u001b[38;5;28;43mself\u001b[39;49m\u001b[43m.\u001b[49m\u001b[43moptions\u001b[49m\u001b[43m.\u001b[49m\u001b[43mget\u001b[49m\u001b[43m(\u001b[49m\u001b[33;43m\"\u001b[39;49m\u001b[33;43mencoding\u001b[39;49m\u001b[33;43m\"\u001b[39;49m\u001b[43m,\u001b[49m\u001b[43m \u001b[49m\u001b[38;5;28;43;01mNone\u001b[39;49;00m\u001b[43m)\u001b[49m\u001b[43m,\u001b[49m\n\u001b[32m   1884\u001b[39m \u001b[43m    \u001b[49m\u001b[43mcompression\u001b[49m\u001b[43m=\u001b[49m\u001b[38;5;28;43mself\u001b[39;49m\u001b[43m.\u001b[49m\u001b[43moptions\u001b[49m\u001b[43m.\u001b[49m\u001b[43mget\u001b[49m\u001b[43m(\u001b[49m\u001b[33;43m\"\u001b[39;49m\u001b[33;43mcompression\u001b[39;49m\u001b[33;43m\"\u001b[39;49m\u001b[43m,\u001b[49m\u001b[43m \u001b[49m\u001b[38;5;28;43;01mNone\u001b[39;49;00m\u001b[43m)\u001b[49m\u001b[43m,\u001b[49m\n\u001b[32m   1885\u001b[39m \u001b[43m    \u001b[49m\u001b[43mmemory_map\u001b[49m\u001b[43m=\u001b[49m\u001b[38;5;28;43mself\u001b[39;49m\u001b[43m.\u001b[49m\u001b[43moptions\u001b[49m\u001b[43m.\u001b[49m\u001b[43mget\u001b[49m\u001b[43m(\u001b[49m\u001b[33;43m\"\u001b[39;49m\u001b[33;43mmemory_map\u001b[39;49m\u001b[33;43m\"\u001b[39;49m\u001b[43m,\u001b[49m\u001b[43m \u001b[49m\u001b[38;5;28;43;01mFalse\u001b[39;49;00m\u001b[43m)\u001b[49m\u001b[43m,\u001b[49m\n\u001b[32m   1886\u001b[39m \u001b[43m    \u001b[49m\u001b[43mis_text\u001b[49m\u001b[43m=\u001b[49m\u001b[43mis_text\u001b[49m\u001b[43m,\u001b[49m\n\u001b[32m   1887\u001b[39m \u001b[43m    \u001b[49m\u001b[43merrors\u001b[49m\u001b[43m=\u001b[49m\u001b[38;5;28;43mself\u001b[39;49m\u001b[43m.\u001b[49m\u001b[43moptions\u001b[49m\u001b[43m.\u001b[49m\u001b[43mget\u001b[49m\u001b[43m(\u001b[49m\u001b[33;43m\"\u001b[39;49m\u001b[33;43mencoding_errors\u001b[39;49m\u001b[33;43m\"\u001b[39;49m\u001b[43m,\u001b[49m\u001b[43m \u001b[49m\u001b[33;43m\"\u001b[39;49m\u001b[33;43mstrict\u001b[39;49m\u001b[33;43m\"\u001b[39;49m\u001b[43m)\u001b[49m\u001b[43m,\u001b[49m\n\u001b[32m   1888\u001b[39m \u001b[43m    \u001b[49m\u001b[43mstorage_options\u001b[49m\u001b[43m=\u001b[49m\u001b[38;5;28;43mself\u001b[39;49m\u001b[43m.\u001b[49m\u001b[43moptions\u001b[49m\u001b[43m.\u001b[49m\u001b[43mget\u001b[49m\u001b[43m(\u001b[49m\u001b[33;43m\"\u001b[39;49m\u001b[33;43mstorage_options\u001b[39;49m\u001b[33;43m\"\u001b[39;49m\u001b[43m,\u001b[49m\u001b[43m \u001b[49m\u001b[38;5;28;43;01mNone\u001b[39;49;00m\u001b[43m)\u001b[49m\u001b[43m,\u001b[49m\n\u001b[32m   1889\u001b[39m \u001b[43m\u001b[49m\u001b[43m)\u001b[49m\n\u001b[32m   1890\u001b[39m \u001b[38;5;28;01massert\u001b[39;00m \u001b[38;5;28mself\u001b[39m.handles \u001b[38;5;129;01mis\u001b[39;00m \u001b[38;5;129;01mnot\u001b[39;00m \u001b[38;5;28;01mNone\u001b[39;00m\n\u001b[32m   1891\u001b[39m f = \u001b[38;5;28mself\u001b[39m.handles.handle\n",
      "\u001b[36mFile \u001b[39m\u001b[32mc:\\Users\\Felli\\.code\\.venv\\Lib\\site-packages\\pandas\\io\\common.py:873\u001b[39m, in \u001b[36mget_handle\u001b[39m\u001b[34m(path_or_buf, mode, encoding, compression, memory_map, is_text, errors, storage_options)\u001b[39m\n\u001b[32m    868\u001b[39m \u001b[38;5;28;01melif\u001b[39;00m \u001b[38;5;28misinstance\u001b[39m(handle, \u001b[38;5;28mstr\u001b[39m):\n\u001b[32m    869\u001b[39m     \u001b[38;5;66;03m# Check whether the filename is to be opened in binary mode.\u001b[39;00m\n\u001b[32m    870\u001b[39m     \u001b[38;5;66;03m# Binary mode does not support 'encoding' and 'newline'.\u001b[39;00m\n\u001b[32m    871\u001b[39m     \u001b[38;5;28;01mif\u001b[39;00m ioargs.encoding \u001b[38;5;129;01mand\u001b[39;00m \u001b[33m\"\u001b[39m\u001b[33mb\u001b[39m\u001b[33m\"\u001b[39m \u001b[38;5;129;01mnot\u001b[39;00m \u001b[38;5;129;01min\u001b[39;00m ioargs.mode:\n\u001b[32m    872\u001b[39m         \u001b[38;5;66;03m# Encoding\u001b[39;00m\n\u001b[32m--> \u001b[39m\u001b[32m873\u001b[39m         handle = \u001b[38;5;28;43mopen\u001b[39;49m\u001b[43m(\u001b[49m\n\u001b[32m    874\u001b[39m \u001b[43m            \u001b[49m\u001b[43mhandle\u001b[49m\u001b[43m,\u001b[49m\n\u001b[32m    875\u001b[39m \u001b[43m            \u001b[49m\u001b[43mioargs\u001b[49m\u001b[43m.\u001b[49m\u001b[43mmode\u001b[49m\u001b[43m,\u001b[49m\n\u001b[32m    876\u001b[39m \u001b[43m            \u001b[49m\u001b[43mencoding\u001b[49m\u001b[43m=\u001b[49m\u001b[43mioargs\u001b[49m\u001b[43m.\u001b[49m\u001b[43mencoding\u001b[49m\u001b[43m,\u001b[49m\n\u001b[32m    877\u001b[39m \u001b[43m            \u001b[49m\u001b[43merrors\u001b[49m\u001b[43m=\u001b[49m\u001b[43merrors\u001b[49m\u001b[43m,\u001b[49m\n\u001b[32m    878\u001b[39m \u001b[43m            \u001b[49m\u001b[43mnewline\u001b[49m\u001b[43m=\u001b[49m\u001b[33;43m\"\u001b[39;49m\u001b[33;43m\"\u001b[39;49m\u001b[43m,\u001b[49m\n\u001b[32m    879\u001b[39m \u001b[43m        \u001b[49m\u001b[43m)\u001b[49m\n\u001b[32m    880\u001b[39m     \u001b[38;5;28;01melse\u001b[39;00m:\n\u001b[32m    881\u001b[39m         \u001b[38;5;66;03m# Binary mode\u001b[39;00m\n\u001b[32m    882\u001b[39m         handle = \u001b[38;5;28mopen\u001b[39m(handle, ioargs.mode)\n",
      "\u001b[31mFileNotFoundError\u001b[39m: [Errno 2] No such file or directory: 'dataraw.csv'"
     ]
    }
   ],
   "source": [
    "import pandas as pd\n",
    "\n",
    "df = pd.read_csv('dataraw.csv')\n",
    "\n",
    "# Mostra as 5 primeiras linhas\n",
    "print(df.head())"
   ]
  },
  {
   "cell_type": "code",
   "execution_count": null,
   "id": "f3fa4c65-e2b2-4b7d-aa85-51138523fe7c",
   "metadata": {},
   "outputs": [
    {
     "ename": "FileNotFoundError",
     "evalue": "[Errno 2] No such file or directory: 'dataraw.csv'",
     "output_type": "error",
     "traceback": [
      "\u001b[31m---------------------------------------------------------------------------\u001b[39m",
      "\u001b[31mFileNotFoundError\u001b[39m                         Traceback (most recent call last)",
      "\u001b[36mCell\u001b[39m\u001b[36m \u001b[39m\u001b[32mIn[2]\u001b[39m\u001b[32m, line 3\u001b[39m\n\u001b[32m      1\u001b[39m \u001b[38;5;28;01mimport\u001b[39;00m\u001b[38;5;250m \u001b[39m\u001b[34;01mpandas\u001b[39;00m\u001b[38;5;250m \u001b[39m\u001b[38;5;28;01mas\u001b[39;00m\u001b[38;5;250m \u001b[39m\u001b[34;01mpd\u001b[39;00m\n\u001b[32m----> \u001b[39m\u001b[32m3\u001b[39m df = \u001b[43mpd\u001b[49m\u001b[43m.\u001b[49m\u001b[43mread_csv\u001b[49m\u001b[43m(\u001b[49m\u001b[33;43m'\u001b[39;49m\u001b[33;43mdataraw.csv\u001b[39;49m\u001b[33;43m'\u001b[39;49m\u001b[43m)\u001b[49m\n\u001b[32m      5\u001b[39m \u001b[38;5;66;03m# Mostra as 5 primeiras linhas\u001b[39;00m\n\u001b[32m      6\u001b[39m \u001b[38;5;28mprint\u001b[39m(df.head())\n",
      "\u001b[36mFile \u001b[39m\u001b[32mc:\\Users\\Felli\\.code\\.venv\\Lib\\site-packages\\pandas\\io\\parsers\\readers.py:1026\u001b[39m, in \u001b[36mread_csv\u001b[39m\u001b[34m(filepath_or_buffer, sep, delimiter, header, names, index_col, usecols, dtype, engine, converters, true_values, false_values, skipinitialspace, skiprows, skipfooter, nrows, na_values, keep_default_na, na_filter, verbose, skip_blank_lines, parse_dates, infer_datetime_format, keep_date_col, date_parser, date_format, dayfirst, cache_dates, iterator, chunksize, compression, thousands, decimal, lineterminator, quotechar, quoting, doublequote, escapechar, comment, encoding, encoding_errors, dialect, on_bad_lines, delim_whitespace, low_memory, memory_map, float_precision, storage_options, dtype_backend)\u001b[39m\n\u001b[32m   1013\u001b[39m kwds_defaults = _refine_defaults_read(\n\u001b[32m   1014\u001b[39m     dialect,\n\u001b[32m   1015\u001b[39m     delimiter,\n\u001b[32m   (...)\u001b[39m\u001b[32m   1022\u001b[39m     dtype_backend=dtype_backend,\n\u001b[32m   1023\u001b[39m )\n\u001b[32m   1024\u001b[39m kwds.update(kwds_defaults)\n\u001b[32m-> \u001b[39m\u001b[32m1026\u001b[39m \u001b[38;5;28;01mreturn\u001b[39;00m \u001b[43m_read\u001b[49m\u001b[43m(\u001b[49m\u001b[43mfilepath_or_buffer\u001b[49m\u001b[43m,\u001b[49m\u001b[43m \u001b[49m\u001b[43mkwds\u001b[49m\u001b[43m)\u001b[49m\n",
      "\u001b[36mFile \u001b[39m\u001b[32mc:\\Users\\Felli\\.code\\.venv\\Lib\\site-packages\\pandas\\io\\parsers\\readers.py:620\u001b[39m, in \u001b[36m_read\u001b[39m\u001b[34m(filepath_or_buffer, kwds)\u001b[39m\n\u001b[32m    617\u001b[39m _validate_names(kwds.get(\u001b[33m\"\u001b[39m\u001b[33mnames\u001b[39m\u001b[33m\"\u001b[39m, \u001b[38;5;28;01mNone\u001b[39;00m))\n\u001b[32m    619\u001b[39m \u001b[38;5;66;03m# Create the parser.\u001b[39;00m\n\u001b[32m--> \u001b[39m\u001b[32m620\u001b[39m parser = \u001b[43mTextFileReader\u001b[49m\u001b[43m(\u001b[49m\u001b[43mfilepath_or_buffer\u001b[49m\u001b[43m,\u001b[49m\u001b[43m \u001b[49m\u001b[43m*\u001b[49m\u001b[43m*\u001b[49m\u001b[43mkwds\u001b[49m\u001b[43m)\u001b[49m\n\u001b[32m    622\u001b[39m \u001b[38;5;28;01mif\u001b[39;00m chunksize \u001b[38;5;129;01mor\u001b[39;00m iterator:\n\u001b[32m    623\u001b[39m     \u001b[38;5;28;01mreturn\u001b[39;00m parser\n",
      "\u001b[36mFile \u001b[39m\u001b[32mc:\\Users\\Felli\\.code\\.venv\\Lib\\site-packages\\pandas\\io\\parsers\\readers.py:1620\u001b[39m, in \u001b[36mTextFileReader.__init__\u001b[39m\u001b[34m(self, f, engine, **kwds)\u001b[39m\n\u001b[32m   1617\u001b[39m     \u001b[38;5;28mself\u001b[39m.options[\u001b[33m\"\u001b[39m\u001b[33mhas_index_names\u001b[39m\u001b[33m\"\u001b[39m] = kwds[\u001b[33m\"\u001b[39m\u001b[33mhas_index_names\u001b[39m\u001b[33m\"\u001b[39m]\n\u001b[32m   1619\u001b[39m \u001b[38;5;28mself\u001b[39m.handles: IOHandles | \u001b[38;5;28;01mNone\u001b[39;00m = \u001b[38;5;28;01mNone\u001b[39;00m\n\u001b[32m-> \u001b[39m\u001b[32m1620\u001b[39m \u001b[38;5;28mself\u001b[39m._engine = \u001b[38;5;28;43mself\u001b[39;49m\u001b[43m.\u001b[49m\u001b[43m_make_engine\u001b[49m\u001b[43m(\u001b[49m\u001b[43mf\u001b[49m\u001b[43m,\u001b[49m\u001b[43m \u001b[49m\u001b[38;5;28;43mself\u001b[39;49m\u001b[43m.\u001b[49m\u001b[43mengine\u001b[49m\u001b[43m)\u001b[49m\n",
      "\u001b[36mFile \u001b[39m\u001b[32mc:\\Users\\Felli\\.code\\.venv\\Lib\\site-packages\\pandas\\io\\parsers\\readers.py:1880\u001b[39m, in \u001b[36mTextFileReader._make_engine\u001b[39m\u001b[34m(self, f, engine)\u001b[39m\n\u001b[32m   1878\u001b[39m     \u001b[38;5;28;01mif\u001b[39;00m \u001b[33m\"\u001b[39m\u001b[33mb\u001b[39m\u001b[33m\"\u001b[39m \u001b[38;5;129;01mnot\u001b[39;00m \u001b[38;5;129;01min\u001b[39;00m mode:\n\u001b[32m   1879\u001b[39m         mode += \u001b[33m\"\u001b[39m\u001b[33mb\u001b[39m\u001b[33m\"\u001b[39m\n\u001b[32m-> \u001b[39m\u001b[32m1880\u001b[39m \u001b[38;5;28mself\u001b[39m.handles = \u001b[43mget_handle\u001b[49m\u001b[43m(\u001b[49m\n\u001b[32m   1881\u001b[39m \u001b[43m    \u001b[49m\u001b[43mf\u001b[49m\u001b[43m,\u001b[49m\n\u001b[32m   1882\u001b[39m \u001b[43m    \u001b[49m\u001b[43mmode\u001b[49m\u001b[43m,\u001b[49m\n\u001b[32m   1883\u001b[39m \u001b[43m    \u001b[49m\u001b[43mencoding\u001b[49m\u001b[43m=\u001b[49m\u001b[38;5;28;43mself\u001b[39;49m\u001b[43m.\u001b[49m\u001b[43moptions\u001b[49m\u001b[43m.\u001b[49m\u001b[43mget\u001b[49m\u001b[43m(\u001b[49m\u001b[33;43m\"\u001b[39;49m\u001b[33;43mencoding\u001b[39;49m\u001b[33;43m\"\u001b[39;49m\u001b[43m,\u001b[49m\u001b[43m \u001b[49m\u001b[38;5;28;43;01mNone\u001b[39;49;00m\u001b[43m)\u001b[49m\u001b[43m,\u001b[49m\n\u001b[32m   1884\u001b[39m \u001b[43m    \u001b[49m\u001b[43mcompression\u001b[49m\u001b[43m=\u001b[49m\u001b[38;5;28;43mself\u001b[39;49m\u001b[43m.\u001b[49m\u001b[43moptions\u001b[49m\u001b[43m.\u001b[49m\u001b[43mget\u001b[49m\u001b[43m(\u001b[49m\u001b[33;43m\"\u001b[39;49m\u001b[33;43mcompression\u001b[39;49m\u001b[33;43m\"\u001b[39;49m\u001b[43m,\u001b[49m\u001b[43m \u001b[49m\u001b[38;5;28;43;01mNone\u001b[39;49;00m\u001b[43m)\u001b[49m\u001b[43m,\u001b[49m\n\u001b[32m   1885\u001b[39m \u001b[43m    \u001b[49m\u001b[43mmemory_map\u001b[49m\u001b[43m=\u001b[49m\u001b[38;5;28;43mself\u001b[39;49m\u001b[43m.\u001b[49m\u001b[43moptions\u001b[49m\u001b[43m.\u001b[49m\u001b[43mget\u001b[49m\u001b[43m(\u001b[49m\u001b[33;43m\"\u001b[39;49m\u001b[33;43mmemory_map\u001b[39;49m\u001b[33;43m\"\u001b[39;49m\u001b[43m,\u001b[49m\u001b[43m \u001b[49m\u001b[38;5;28;43;01mFalse\u001b[39;49;00m\u001b[43m)\u001b[49m\u001b[43m,\u001b[49m\n\u001b[32m   1886\u001b[39m \u001b[43m    \u001b[49m\u001b[43mis_text\u001b[49m\u001b[43m=\u001b[49m\u001b[43mis_text\u001b[49m\u001b[43m,\u001b[49m\n\u001b[32m   1887\u001b[39m \u001b[43m    \u001b[49m\u001b[43merrors\u001b[49m\u001b[43m=\u001b[49m\u001b[38;5;28;43mself\u001b[39;49m\u001b[43m.\u001b[49m\u001b[43moptions\u001b[49m\u001b[43m.\u001b[49m\u001b[43mget\u001b[49m\u001b[43m(\u001b[49m\u001b[33;43m\"\u001b[39;49m\u001b[33;43mencoding_errors\u001b[39;49m\u001b[33;43m\"\u001b[39;49m\u001b[43m,\u001b[49m\u001b[43m \u001b[49m\u001b[33;43m\"\u001b[39;49m\u001b[33;43mstrict\u001b[39;49m\u001b[33;43m\"\u001b[39;49m\u001b[43m)\u001b[49m\u001b[43m,\u001b[49m\n\u001b[32m   1888\u001b[39m \u001b[43m    \u001b[49m\u001b[43mstorage_options\u001b[49m\u001b[43m=\u001b[49m\u001b[38;5;28;43mself\u001b[39;49m\u001b[43m.\u001b[49m\u001b[43moptions\u001b[49m\u001b[43m.\u001b[49m\u001b[43mget\u001b[49m\u001b[43m(\u001b[49m\u001b[33;43m\"\u001b[39;49m\u001b[33;43mstorage_options\u001b[39;49m\u001b[33;43m\"\u001b[39;49m\u001b[43m,\u001b[49m\u001b[43m \u001b[49m\u001b[38;5;28;43;01mNone\u001b[39;49;00m\u001b[43m)\u001b[49m\u001b[43m,\u001b[49m\n\u001b[32m   1889\u001b[39m \u001b[43m\u001b[49m\u001b[43m)\u001b[49m\n\u001b[32m   1890\u001b[39m \u001b[38;5;28;01massert\u001b[39;00m \u001b[38;5;28mself\u001b[39m.handles \u001b[38;5;129;01mis\u001b[39;00m \u001b[38;5;129;01mnot\u001b[39;00m \u001b[38;5;28;01mNone\u001b[39;00m\n\u001b[32m   1891\u001b[39m f = \u001b[38;5;28mself\u001b[39m.handles.handle\n",
      "\u001b[36mFile \u001b[39m\u001b[32mc:\\Users\\Felli\\.code\\.venv\\Lib\\site-packages\\pandas\\io\\common.py:873\u001b[39m, in \u001b[36mget_handle\u001b[39m\u001b[34m(path_or_buf, mode, encoding, compression, memory_map, is_text, errors, storage_options)\u001b[39m\n\u001b[32m    868\u001b[39m \u001b[38;5;28;01melif\u001b[39;00m \u001b[38;5;28misinstance\u001b[39m(handle, \u001b[38;5;28mstr\u001b[39m):\n\u001b[32m    869\u001b[39m     \u001b[38;5;66;03m# Check whether the filename is to be opened in binary mode.\u001b[39;00m\n\u001b[32m    870\u001b[39m     \u001b[38;5;66;03m# Binary mode does not support 'encoding' and 'newline'.\u001b[39;00m\n\u001b[32m    871\u001b[39m     \u001b[38;5;28;01mif\u001b[39;00m ioargs.encoding \u001b[38;5;129;01mand\u001b[39;00m \u001b[33m\"\u001b[39m\u001b[33mb\u001b[39m\u001b[33m\"\u001b[39m \u001b[38;5;129;01mnot\u001b[39;00m \u001b[38;5;129;01min\u001b[39;00m ioargs.mode:\n\u001b[32m    872\u001b[39m         \u001b[38;5;66;03m# Encoding\u001b[39;00m\n\u001b[32m--> \u001b[39m\u001b[32m873\u001b[39m         handle = \u001b[38;5;28;43mopen\u001b[39;49m\u001b[43m(\u001b[49m\n\u001b[32m    874\u001b[39m \u001b[43m            \u001b[49m\u001b[43mhandle\u001b[49m\u001b[43m,\u001b[49m\n\u001b[32m    875\u001b[39m \u001b[43m            \u001b[49m\u001b[43mioargs\u001b[49m\u001b[43m.\u001b[49m\u001b[43mmode\u001b[49m\u001b[43m,\u001b[49m\n\u001b[32m    876\u001b[39m \u001b[43m            \u001b[49m\u001b[43mencoding\u001b[49m\u001b[43m=\u001b[49m\u001b[43mioargs\u001b[49m\u001b[43m.\u001b[49m\u001b[43mencoding\u001b[49m\u001b[43m,\u001b[49m\n\u001b[32m    877\u001b[39m \u001b[43m            \u001b[49m\u001b[43merrors\u001b[49m\u001b[43m=\u001b[49m\u001b[43merrors\u001b[49m\u001b[43m,\u001b[49m\n\u001b[32m    878\u001b[39m \u001b[43m            \u001b[49m\u001b[43mnewline\u001b[49m\u001b[43m=\u001b[49m\u001b[33;43m\"\u001b[39;49m\u001b[33;43m\"\u001b[39;49m\u001b[43m,\u001b[49m\n\u001b[32m    879\u001b[39m \u001b[43m        \u001b[49m\u001b[43m)\u001b[49m\n\u001b[32m    880\u001b[39m     \u001b[38;5;28;01melse\u001b[39;00m:\n\u001b[32m    881\u001b[39m         \u001b[38;5;66;03m# Binary mode\u001b[39;00m\n\u001b[32m    882\u001b[39m         handle = \u001b[38;5;28mopen\u001b[39m(handle, ioargs.mode)\n",
      "\u001b[31mFileNotFoundError\u001b[39m: [Errno 2] No such file or directory: 'dataraw.csv'"
     ]
    }
   ],
   "source": [
    "import pandas as pd\n",
    "\n",
    "df = pd.read_csv('dataraw.csv')\n",
    "\n",
    "# Mostra as 5 primeiras linhas\n",
    "print(df.head())"
   ]
  },
  {
   "cell_type": "code",
   "execution_count": null,
   "id": "9a0e669c-d504-4eac-9383-c1590977e400",
   "metadata": {},
   "outputs": [
    {
     "name": "stdout",
     "output_type": "stream",
     "text": [
      "   Unnamed: 0                               titulo        data horario  \\\n",
      "0           0                        Fantasma Neon  2025-04-22   06:00   \n",
      "1           1  Guard Dog & Bill Plympton no Brasil  2025-04-22   06:23   \n",
      "2           2                 Cantoras Portuguesas  2025-04-22   06:30   \n",
      "3           3            Portugal... Minha Saudade  2025-04-22   06:45   \n",
      "4           4  Guard Dog & Bill Plympton no Brasil  2025-04-22   08:30   \n",
      "\n",
      "            genero_ano                                            sinopse  \n",
      "0       Musical / 2021  João é um entregador de aplicativo que sonha e...  \n",
      "1             Children  Um ansioso e neurótico cãozinho se desgarra de...  \n",
      "2        Entertainment  Forte e autêntica, Simone de Oliveira comenta ...  \n",
      "3  Comedy / 1974 / 5.5  Os gêmeos Sabino e Agostinho vivem separados u...  \n",
      "4             Children  Um ansioso e neurótico cãozinho se desgarra de...  \n"
     ]
    }
   ],
   "source": [
    "import pandas as pd\n",
    "\n",
    "df = pd.read_csv('dataraw.csv')\n",
    "\n",
    "# Mostra as 5 primeiras linhas\n",
    "print(df.head())"
   ]
  },
  {
   "cell_type": "code",
   "execution_count": null,
   "metadata": {},
   "outputs": [
    {
     "data": {
      "application/vnd.microsoft.datawrangler.viewer.v0+json": {
       "columns": [
        {
         "name": "index",
         "rawType": "int64",
         "type": "integer"
        },
        {
         "name": "Unnamed: 0",
         "rawType": "int64",
         "type": "integer"
        },
        {
         "name": "titulo",
         "rawType": "object",
         "type": "string"
        },
        {
         "name": "data",
         "rawType": "object",
         "type": "string"
        },
        {
         "name": "horario",
         "rawType": "object",
         "type": "string"
        },
        {
         "name": "genero_ano",
         "rawType": "object",
         "type": "string"
        },
        {
         "name": "sinopse",
         "rawType": "object",
         "type": "string"
        }
       ],
       "conversionMethod": "pd.DataFrame",
       "ref": "81c1a8a3-ebcd-499f-9b8f-ec51d6220537",
       "rows": [
        [
         "0",
         "0",
         "Fantasma Neon",
         "2025-04-22",
         "06:00",
         "Musical / 2021",
         "João é um entregador de aplicativo que sonha em ter uma moto para conhecer o Brasil."
        ],
        [
         "1",
         "1",
         "Guard Dog & Bill Plympton no Brasil",
         "2025-04-22",
         "06:23",
         "Children",
         "Um ansioso e neurótico cãozinho se desgarra de seu dono Plympton e parte rumo a pequenas aventuras ao chegar no Brasil."
        ],
        [
         "2",
         "2",
         "Cantoras Portuguesas",
         "2025-04-22",
         "06:30",
         "Entertainment",
         "Forte e autêntica, Simone de Oliveira comenta as vitórias da mulher portuguesa e do seu trabalho com Amália Rodrigues. Ela revela também não trocar a voz de cantora pela antiga voz de locutora que já teve."
        ],
        [
         "3",
         "3",
         "Portugal... Minha Saudade",
         "2025-04-22",
         "06:45",
         "Comedy / 1974 / 5.5",
         "Os gêmeos Sabino e Agostinho vivem separados um do outro. Sabino mora com o filho casado no Brasil e leva uma vida muito humilde, vendendo frutas nas ruas de São Paulo. Agostinho mora em Lisboa, Portugal. Por causa dos muitos conflitos com a família de seu filho, Sabino é colocado em um asilo. Um dia, seu irmão Agostinho chega, inesperadamente, de Lisboa e fica abismado com o jeito que tratam seu irmão e o leva para Portugal."
        ],
        [
         "4",
         "4",
         "Guard Dog & Bill Plympton no Brasil",
         "2025-04-22",
         "08:30",
         "Children",
         "Um ansioso e neurótico cãozinho se desgarra de seu dono Plympton e parte rumo a pequenas aventuras ao chegar no Brasil."
        ],
        [
         "5",
         "5",
         "Cantoras Portuguesas",
         "2025-04-22",
         "08:35",
         "Entertainment",
         "Forte e autêntica, Simone de Oliveira comenta as vitórias da mulher portuguesa e do seu trabalho com Amália Rodrigues. Ela revela também não trocar a voz de cantora pela antiga voz de locutora que já teve."
        ],
        [
         "6",
         "6",
         "Guard Dog & Bill Plympton no Brasil",
         "2025-04-22",
         "08:50",
         "Children",
         "Um ansioso e neurótico cãozinho se desgarra de seu dono Plympton e parte rumo a pequenas aventuras ao chegar no Brasil."
        ],
        [
         "7",
         "7",
         "Caramuru - A Invenção do Brasil",
         "2025-04-22",
         "08:55",
         "Comedy / 2001 / 6.6",
         "Portugal, século 16. Após ser enganado pela sedutora Isabelle, o jovem Diogo é deportado para o Brasil, mas sua caravela naufraga. Por milagre, ele é salvo pelo cacique Itaparica. Em terras brasileiras, ele passa a ser chamado de Caramuru e vive um harmônico triângulo amoroso com as duas filhas do cacique, Moema e Paraguaçu."
        ],
        [
         "8",
         "8",
         "Cantoras Portuguesas",
         "2025-04-22",
         "10:25",
         "Entertainment",
         "Forte e autêntica, Simone de Oliveira comenta as vitórias da mulher portuguesa e do seu trabalho com Amália Rodrigues. Ela revela também não trocar a voz de cantora pela antiga voz de locutora que já teve."
        ],
        [
         "9",
         "9",
         "Carlota Joaquina, Princesa do Brazil",
         "2025-04-22",
         "10:45",
         "Comedy drama / 1995",
         "Uma história satírica do Brasil no século 18, narrando as aventuras de uma mulher sensual que manca e tem um bigode."
        ],
        [
         "10",
         "10",
         "Guard Dog & Bill Plympton no Brasil",
         "2025-04-22",
         "12:25",
         "Children",
         "Um ansioso e neurótico cãozinho se desgarra de seu dono Plympton e parte rumo a pequenas aventuras ao chegar no Brasil."
        ],
        [
         "11",
         "11",
         "Bá",
         "2025-04-22",
         "12:30",
         "Drama / 2015",
         "O pequeno Bruno é obrigado a lidar com as mudanças que ocorrem em sua vida quando sua avo? e? trazida para morar em sua casa."
        ],
        [
         "12",
         "12",
         "Cantoras Portuguesas",
         "2025-04-22",
         "12:45",
         "Entertainment",
         "Forte e autêntica, Simone de Oliveira comenta as vitórias da mulher portuguesa e do seu trabalho com Amália Rodrigues. Ela revela também não trocar a voz de cantora pela antiga voz de locutora que já teve."
        ],
        [
         "13",
         "13",
         "Cinejornal",
         "2025-04-22",
         "13:00",
         "Art",
         "O cinema brasileiro em pauta com as novidades e os bastidores da produção nacional, entrevistas com atores e diretores e a cobertura completa de festivais importantes em todo o país."
        ],
        [
         "14",
         "14",
         "Esquinas - Pílulas",
         "2025-04-22",
         "13:15",
         "Documentary",
         "Reportagens documentais inspiradas na seção homônima da Revista Piauí. Personagens e eventos peculiares são colhidos pelos quatro cantos do país com uma abordagem inovadora."
        ],
        [
         "15",
         "15",
         "Cantoras Portuguesas",
         "2025-04-22",
         "13:30",
         "Entertainment",
         "Forte e autêntica, Simone de Oliveira comenta as vitórias da mulher portuguesa e do seu trabalho com Amália Rodrigues. Ela revela também não trocar a voz de cantora pela antiga voz de locutora que já teve."
        ],
        [
         "16",
         "16",
         "Guard Dog & Bill Plympton no Brasil",
         "2025-04-22",
         "13:50",
         "Children",
         "Um ansioso e neurótico cãozinho se desgarra de seu dono Plympton e parte rumo a pequenas aventuras ao chegar no Brasil."
        ],
        [
         "17",
         "17",
         "70 Anos de Edu Lobo",
         "2025-04-22",
         "14:00",
         "Music",
         "Em estúdio, Edu Lobo recebe seus amigos Joyce, Mauro Senise, Gilson Peranzeta, Carlos Malta e Roberta Sá para versões exclusivas de seu repertório."
        ],
        [
         "18",
         "18",
         "70 Anos de Edu Lobo",
         "2025-04-22",
         "14:30",
         "Music",
         "Em estúdio, Edu Lobo recebe seus amigos Joyce, Mauro Senise, Gilson Peranzeta, Carlos Malta e Roberta Sá para versões exclusivas de seu repertório."
        ],
        [
         "19",
         "19",
         "70 Anos de Edu Lobo",
         "2025-04-22",
         "14:55",
         "Music",
         "Em estúdio, Edu Lobo recebe seus amigos Joyce, Mauro Senise, Gilson Peranzeta, Carlos Malta e Roberta Sá para versões exclusivas de seu repertório."
        ],
        [
         "20",
         "20",
         "70 Anos de Edu Lobo",
         "2025-04-22",
         "15:25",
         "Music",
         "Em estúdio, Edu Lobo recebe seus amigos Joyce, Mauro Senise, Gilson Peranzeta, Carlos Malta e Roberta Sá para versões exclusivas de seu repertório."
        ],
        [
         "21",
         "21",
         "Cantoras Portuguesas",
         "2025-04-22",
         "15:50",
         "Entertainment",
         "Forte e autêntica, Simone de Oliveira comenta as vitórias da mulher portuguesa e do seu trabalho com Amália Rodrigues. Ela revela também não trocar a voz de cantora pela antiga voz de locutora que já teve."
        ],
        [
         "22",
         "22",
         "Guard Dog & Bill Plympton no Brasil",
         "2025-04-22",
         "16:05",
         "Children",
         "Um ansioso e neurótico cãozinho se desgarra de seu dono Plympton e parte rumo a pequenas aventuras ao chegar no Brasil."
        ],
        [
         "23",
         "23",
         "Remendo",
         "2025-04-22",
         "16:10",
         "Drama / 2023",
         "Zé é um homem negro de meia-idade que tem uma oficina de eletrodomésticos na periferia e está em busca de amor. Enquanto uma nova inquilina chega ao prédio de sua mãe, ele recorre a divindades para tentar resolver seus problemas amorosos e sua autoestima, enfrentando os traumas invisíveis do colonialismo para encontrar um novo tipo de liberdade."
        ],
        [
         "24",
         "24",
         "Arte na Capa",
         "2025-04-22",
         "16:35",
         "Music",
         "Os bastidores da criação, histórias e curiosidades de capas de discos brasileiros clássicas."
        ],
        [
         "25",
         "25",
         "Fado Tropical",
         "2025-04-22",
         "16:40",
         "Drama / 2019",
         "Após anos separados, os irmãos brasileiros Isabel e Antonio se reencontram na cidade de Lisboa. Agora, a dupla decide embarcar em uma viagem emocionante pelo país natal de seu pai, que faleceu recentemente."
        ],
        [
         "26",
         "26",
         "Cantoras Portuguesas",
         "2025-04-22",
         "18:15",
         "Entertainment",
         "Forte e autêntica, Simone de Oliveira comenta as vitórias da mulher portuguesa e do seu trabalho com Amália Rodrigues. Ela revela também não trocar a voz de cantora pela antiga voz de locutora que já teve."
        ],
        [
         "27",
         "27",
         "Você",
         "2025-04-22",
         "18:30",
         "Drama / 2024 / 5.4",
         "Por meio de uma conversa telefônica com a delegada, uma mãe revisita memórias sobre a convivência com o pai de sua filha enquanto elas discorrem sobre as ausências às quais ele foi condicionado."
        ],
        [
         "28",
         "28",
         "Choque de Cultura",
         "2025-04-22",
         "18:45",
         "Temporada 6 Episódio 7 - Brasil Contra o Resto do Mundo",
         "Neste embate do século, o cinema brasileiro enfrenta a sétima arte do resto do mundo em clima de mata-mata, cachorro invadindo o campo e apedrejamento de ônibus."
        ],
        [
         "29",
         "29",
         "Mito e Música - A Mensagem de Fernando Pessoa",
         "2025-04-22",
         "19:00",
         "Documentary / 2018",
         "O documentário aborda o projeto, que levou 30 anos para ser finalizado, sobre a gravação de 44 músicas criadas para cada poema de Mensagem, um dos livros mais emblemáticos de Fernando Pessoa."
        ],
        [
         "30",
         "30",
         "Cantoras Portuguesas",
         "2025-04-22",
         "20:35",
         "Entertainment",
         "Forte e autêntica, Simone de Oliveira comenta as vitórias da mulher portuguesa e do seu trabalho com Amália Rodrigues. Ela revela também não trocar a voz de cantora pela antiga voz de locutora que já teve."
        ],
        [
         "31",
         "31",
         "A Bela América",
         "2025-04-22",
         "20:50",
         "Comedy / 2023",
         "O cozinheiro Lucas entra na casa de América, estrela de televisão e candidata presidencial, para seduzi-la com refeições extraordinárias."
        ],
        [
         "32",
         "32",
         "Cantoras Portuguesas",
         "2025-04-22",
         "22:35",
         "Entertainment",
         "Forte e autêntica, Simone de Oliveira comenta as vitórias da mulher portuguesa e do seu trabalho com Amália Rodrigues. Ela revela também não trocar a voz de cantora pela antiga voz de locutora que já teve."
        ],
        [
         "33",
         "33",
         "Greice",
         "2025-04-22",
         "22:55",
         "Comedy drama / 2024",
         "Greice, uma jovem brasileira de 21 anos, estuda na Universidade de Belas Artes de Lisboa. Ela se envolve com o misterioso Afonso. E depois de uma festa de boas-vindas para os novos estudantes, o casal é acusado de um estranho acidente que ocorreu no evento. Greice precisa retornar a Fortaleza, sua cidade natal, para renovar a autorização de residência. Escondida em um hotel, enquanto evita que a mãe descubra os problemas em que se envolveu, Greice tenta encontrar um lugar de conforto no mundo."
        ],
        [
         "34",
         "34",
         "Pornolândia",
         "2025-04-22",
         "00:45",
         "Adults only",
         "Márcia Dailyn fala sobre a sua trajetória até se tornar a primeira bailarina transexual do Theatro Municipal de São Paulo e destaca as dificuldades em ser uma artista no Brasil."
        ],
        [
         "35",
         "35",
         "A Noite das Taras",
         "2025-04-22",
         "01:00",
         "Drama / 1980",
         "Três marinheiros tiram um dia de folga em São Paulo. Um deles tem que entregar uma carta a uma misteriosa mulher; o outro descobre que está sendo seguido por marginais e o terceiro conhece algumas moças prontas para uma maratona mortal de sexo."
        ],
        [
         "36",
         "36",
         "502",
         "2025-04-22",
         "02:25",
         "Temporada 1 Episódio 27 - Lino",
         "Lino fala sobre o processo de exposição que está vivendo, a relação ruim com a irmã por conta de sua orientação sexual e o momento em que se afundou nas drogas após a morte dos pais."
        ],
        [
         "37",
         "37",
         "Exorcismo Negro",
         "2025-04-22",
         "02:40",
         "Horror / 1974",
         "O cineasta José Mojica Marins decide passar o fim de semana na casa de campo de seu amigo Álvaro para escrever um roteiro. Após sua chegada, a família do amigo começa a agir de maneira estranha e violenta como se estivesse possuída pelo demônio. Para exorcizar o mal, é necessário realizar um ritual em uma câmara de tortura. Mojica entra em um confronto violento e inusitado com o seu próprio personagem, Zé do Caixão."
        ],
        [
         "38",
         "38",
         "Sobrepostas - Corpo e Desejo",
         "2025-04-22",
         "04:15",
         "Temporada 2 Episódio 7 - Geni Núñez",
         "A ativista indígena Geni Núñez fala de como a evangelização afetou a sua vida, destaca a busca por relações potáveis e comenta que alguns desvios foram muito saudáveis para o seu crescimento."
        ],
        [
         "39",
         "39",
         "Vizinhos",
         "2025-04-22",
         "04:30",
         "Temporada 1 Episódio 9 - Fronteira",
         "O sagrado churrasco em família de Rogério é interrompido por um vizinho folgado e sua música alta."
        ],
        [
         "40",
         "40",
         "Rota de Fuga",
         "2025-04-22",
         "05:00",
         "Thriller / 2016",
         "Manuela denuncia o marido para a Polícia Federal e entra no programa de proteção a testemunhas. Feito isso, ela abandona tudo e tenta fugir pra Europa antes que ele seja solto."
        ],
        [
         "41",
         "41",
         "Cinejornal",
         "2025-04-23",
         "06:00",
         "Art",
         "O cinema brasileiro em pauta com as novidades e os bastidores da produção nacional, entrevistas com atores e diretores e a cobertura completa de festivais importantes em todo o país."
        ],
        [
         "42",
         "42",
         "Esquinas - Pílulas",
         "2025-04-23",
         "06:15",
         "Documentary",
         "Reportagens documentais inspiradas na seção homônima da Revista Piauí. Personagens e eventos peculiares são colhidos pelos quatro cantos do país com uma abordagem inovadora."
        ],
        [
         "43",
         "43",
         "4 Bilhões de Infinitos",
         "2025-04-23",
         "06:30",
         "Drama / 2020",
         "Após a morte do pai, uma família vive com a energia de casa cortada. Enquanto a mãe trabalha, seus filhos ficam em casa e conversam sobre ter esperança."
        ],
        [
         "44",
         "44",
         "Ainda Restarão Robôs nas Ruas do Interior Profundo",
         "2025-04-23",
         "06:44",
         "Drama / 2022",
         "Na periferia do interior profundo brasileiro, Luquinha tenta recuperar sua égua enquanto convive com o crime e o barulho ensurdecedor de uma cidade conservadora."
        ],
        [
         "45",
         "45",
         "Guard Dog & Bill Plympton no Brasil",
         "2025-04-23",
         "07:00",
         "Children",
         "Um ansioso e neurótico cãozinho se desgarra de seu dono Plympton e parte rumo a pequenas aventuras ao chegar no Brasil."
        ],
        [
         "46",
         "46",
         "Vinicius",
         "2025-04-23",
         "07:05",
         "Documentary / 2005 / 7.9",
         "Reconstituição da vida e trajetória artística do músico, poeta e diplomata Vinicius de Moraes, com depoimentos de amigos, familiares e colegas, imagens raras de arquivo, inserções de shows variados e trechos de um pocket show em sua homenagem."
        ],
        [
         "47",
         "47",
         "Ademã - A Vida e as Notas de Ibrahim Sued",
         "2025-04-23",
         "09:10",
         "Documentary / 2022",
         "Conheça a trajetória de Ibrahim Sued, jornalista que revolucionou a imprensa brasileira durante os quase 50 anos de carreira, por meio de entrevistas, fotos e filmes do arquivo pessoal de sua filha, Isabel Sued Perrin."
        ],
        [
         "48",
         "48",
         "Guard Dog & Bill Plympton no Brasil",
         "2025-04-23",
         "10:55",
         "Children",
         "Um ansioso e neurótico cãozinho se desgarra de seu dono Plympton e parte rumo a pequenas aventuras ao chegar no Brasil."
        ],
        [
         "49",
         "49",
         "Cristais de Sangue",
         "2025-04-23",
         "11:00",
         "Drama / 1975",
         "Rui chega em uma cidadezinha procurando o pai. Antes disso, ele se envolve com uma moça, que tem problemas na família. O padrasto da moça é o chefe de uma quadrilha e não mede esforços para que Rui não encontre seu pai."
        ]
       ],
       "shape": {
        "columns": 6,
        "rows": 187
       }
      },
      "text/html": [
       "<div>\n",
       "<style scoped>\n",
       "    .dataframe tbody tr th:only-of-type {\n",
       "        vertical-align: middle;\n",
       "    }\n",
       "\n",
       "    .dataframe tbody tr th {\n",
       "        vertical-align: top;\n",
       "    }\n",
       "\n",
       "    .dataframe thead th {\n",
       "        text-align: right;\n",
       "    }\n",
       "</style>\n",
       "<table border=\"1\" class=\"dataframe\">\n",
       "  <thead>\n",
       "    <tr style=\"text-align: right;\">\n",
       "      <th></th>\n",
       "      <th>Unnamed: 0</th>\n",
       "      <th>titulo</th>\n",
       "      <th>data</th>\n",
       "      <th>horario</th>\n",
       "      <th>genero_ano</th>\n",
       "      <th>sinopse</th>\n",
       "    </tr>\n",
       "  </thead>\n",
       "  <tbody>\n",
       "    <tr>\n",
       "      <th>0</th>\n",
       "      <td>0</td>\n",
       "      <td>Fantasma Neon</td>\n",
       "      <td>2025-04-22</td>\n",
       "      <td>06:00</td>\n",
       "      <td>Musical / 2021</td>\n",
       "      <td>João é um entregador de aplicativo que sonha e...</td>\n",
       "    </tr>\n",
       "    <tr>\n",
       "      <th>1</th>\n",
       "      <td>1</td>\n",
       "      <td>Guard Dog &amp; Bill Plympton no Brasil</td>\n",
       "      <td>2025-04-22</td>\n",
       "      <td>06:23</td>\n",
       "      <td>Children</td>\n",
       "      <td>Um ansioso e neurótico cãozinho se desgarra de...</td>\n",
       "    </tr>\n",
       "    <tr>\n",
       "      <th>2</th>\n",
       "      <td>2</td>\n",
       "      <td>Cantoras Portuguesas</td>\n",
       "      <td>2025-04-22</td>\n",
       "      <td>06:30</td>\n",
       "      <td>Entertainment</td>\n",
       "      <td>Forte e autêntica, Simone de Oliveira comenta ...</td>\n",
       "    </tr>\n",
       "    <tr>\n",
       "      <th>3</th>\n",
       "      <td>3</td>\n",
       "      <td>Portugal... Minha Saudade</td>\n",
       "      <td>2025-04-22</td>\n",
       "      <td>06:45</td>\n",
       "      <td>Comedy / 1974 / 5.5</td>\n",
       "      <td>Os gêmeos Sabino e Agostinho vivem separados u...</td>\n",
       "    </tr>\n",
       "    <tr>\n",
       "      <th>4</th>\n",
       "      <td>4</td>\n",
       "      <td>Guard Dog &amp; Bill Plympton no Brasil</td>\n",
       "      <td>2025-04-22</td>\n",
       "      <td>08:30</td>\n",
       "      <td>Children</td>\n",
       "      <td>Um ansioso e neurótico cãozinho se desgarra de...</td>\n",
       "    </tr>\n",
       "    <tr>\n",
       "      <th>...</th>\n",
       "      <td>...</td>\n",
       "      <td>...</td>\n",
       "      <td>...</td>\n",
       "      <td>...</td>\n",
       "      <td>...</td>\n",
       "      <td>...</td>\n",
       "    </tr>\n",
       "    <tr>\n",
       "      <th>182</th>\n",
       "      <td>182</td>\n",
       "      <td>Guard Dog &amp; Bill Plympton no Brasil</td>\n",
       "      <td>2025-04-27</td>\n",
       "      <td>03:55</td>\n",
       "      <td>Children</td>\n",
       "      <td>Um ansioso e neurótico cãozinho se desgarra de...</td>\n",
       "    </tr>\n",
       "    <tr>\n",
       "      <th>183</th>\n",
       "      <td>183</td>\n",
       "      <td>Vizinhos</td>\n",
       "      <td>2025-04-27</td>\n",
       "      <td>04:00</td>\n",
       "      <td>Temporada 1 Episódio 10 - Os Outros</td>\n",
       "      <td>A chegada de uma família de hippies em um cond...</td>\n",
       "    </tr>\n",
       "    <tr>\n",
       "      <th>184</th>\n",
       "      <td>184</td>\n",
       "      <td>Bonde</td>\n",
       "      <td>2025-04-27</td>\n",
       "      <td>04:30</td>\n",
       "      <td>Drama / 2019</td>\n",
       "      <td>Três jovens negros da favela de Heliópolis sae...</td>\n",
       "    </tr>\n",
       "    <tr>\n",
       "      <th>185</th>\n",
       "      <td>185</td>\n",
       "      <td>Os Mutantes</td>\n",
       "      <td>2025-04-27</td>\n",
       "      <td>04:49</td>\n",
       "      <td>Drama / 1970</td>\n",
       "      <td>Uma brincadeira mutante improvisada por Arnald...</td>\n",
       "    </tr>\n",
       "    <tr>\n",
       "      <th>186</th>\n",
       "      <td>186</td>\n",
       "      <td>Jards</td>\n",
       "      <td>2025-04-27</td>\n",
       "      <td>05:00</td>\n",
       "      <td>Documentary / 2013</td>\n",
       "      <td>A vida e a obra do cantor, músico e ator Jards...</td>\n",
       "    </tr>\n",
       "  </tbody>\n",
       "</table>\n",
       "<p>187 rows × 6 columns</p>\n",
       "</div>"
      ],
      "text/plain": [
       "     Unnamed: 0                               titulo        data horario  \\\n",
       "0             0                        Fantasma Neon  2025-04-22   06:00   \n",
       "1             1  Guard Dog & Bill Plympton no Brasil  2025-04-22   06:23   \n",
       "2             2                 Cantoras Portuguesas  2025-04-22   06:30   \n",
       "3             3            Portugal... Minha Saudade  2025-04-22   06:45   \n",
       "4             4  Guard Dog & Bill Plympton no Brasil  2025-04-22   08:30   \n",
       "..          ...                                  ...         ...     ...   \n",
       "182         182  Guard Dog & Bill Plympton no Brasil  2025-04-27   03:55   \n",
       "183         183                             Vizinhos  2025-04-27   04:00   \n",
       "184         184                                Bonde  2025-04-27   04:30   \n",
       "185         185                          Os Mutantes  2025-04-27   04:49   \n",
       "186         186                                Jards  2025-04-27   05:00   \n",
       "\n",
       "                              genero_ano  \\\n",
       "0                         Musical / 2021   \n",
       "1                               Children   \n",
       "2                          Entertainment   \n",
       "3                    Comedy / 1974 / 5.5   \n",
       "4                               Children   \n",
       "..                                   ...   \n",
       "182                             Children   \n",
       "183  Temporada 1 Episódio 10 - Os Outros   \n",
       "184                         Drama / 2019   \n",
       "185                         Drama / 1970   \n",
       "186                   Documentary / 2013   \n",
       "\n",
       "                                               sinopse  \n",
       "0    João é um entregador de aplicativo que sonha e...  \n",
       "1    Um ansioso e neurótico cãozinho se desgarra de...  \n",
       "2    Forte e autêntica, Simone de Oliveira comenta ...  \n",
       "3    Os gêmeos Sabino e Agostinho vivem separados u...  \n",
       "4    Um ansioso e neurótico cãozinho se desgarra de...  \n",
       "..                                                 ...  \n",
       "182  Um ansioso e neurótico cãozinho se desgarra de...  \n",
       "183  A chegada de uma família de hippies em um cond...  \n",
       "184  Três jovens negros da favela de Heliópolis sae...  \n",
       "185  Uma brincadeira mutante improvisada por Arnald...  \n",
       "186  A vida e a obra do cantor, músico e ator Jards...  \n",
       "\n",
       "[187 rows x 6 columns]"
      ]
     },
     "execution_count": 4,
     "metadata": {},
     "output_type": "execute_result"
    }
   ],
   "source": [
    "df"
   ]
  },
  {
   "cell_type": "code",
   "execution_count": null,
   "metadata": {},
   "outputs": [
    {
     "data": {
      "application/vnd.microsoft.datawrangler.viewer.v0+json": {
       "columns": [
        {
         "name": "index",
         "rawType": "int64",
         "type": "integer"
        },
        {
         "name": "Unnamed: 0",
         "rawType": "int64",
         "type": "integer"
        },
        {
         "name": "titulo",
         "rawType": "object",
         "type": "string"
        },
        {
         "name": "data",
         "rawType": "object",
         "type": "string"
        },
        {
         "name": "horario",
         "rawType": "object",
         "type": "string"
        },
        {
         "name": "genero_ano",
         "rawType": "object",
         "type": "string"
        },
        {
         "name": "sinopse",
         "rawType": "object",
         "type": "string"
        }
       ],
       "conversionMethod": "pd.DataFrame",
       "ref": "0e836c38-eed5-4558-aa82-69e44637fe5d",
       "rows": [
        [
         "0",
         "0",
         "Fantasma Neon",
         "2025-04-22",
         "06:00",
         "Musical / 2021",
         "João é um entregador de aplicativo que sonha em ter uma moto para conhecer o Brasil."
        ],
        [
         "1",
         "1",
         "Guard Dog & Bill Plympton no Brasil",
         "2025-04-22",
         "06:23",
         "Children",
         "Um ansioso e neurótico cãozinho se desgarra de seu dono Plympton e parte rumo a pequenas aventuras ao chegar no Brasil."
        ],
        [
         "2",
         "2",
         "Cantoras Portuguesas",
         "2025-04-22",
         "06:30",
         "Entertainment",
         "Forte e autêntica, Simone de Oliveira comenta as vitórias da mulher portuguesa e do seu trabalho com Amália Rodrigues. Ela revela também não trocar a voz de cantora pela antiga voz de locutora que já teve."
        ],
        [
         "3",
         "3",
         "Portugal... Minha Saudade",
         "2025-04-22",
         "06:45",
         "Comedy / 1974 / 5.5",
         "Os gêmeos Sabino e Agostinho vivem separados um do outro. Sabino mora com o filho casado no Brasil e leva uma vida muito humilde, vendendo frutas nas ruas de São Paulo. Agostinho mora em Lisboa, Portugal. Por causa dos muitos conflitos com a família de seu filho, Sabino é colocado em um asilo. Um dia, seu irmão Agostinho chega, inesperadamente, de Lisboa e fica abismado com o jeito que tratam seu irmão e o leva para Portugal."
        ],
        [
         "4",
         "4",
         "Guard Dog & Bill Plympton no Brasil",
         "2025-04-22",
         "08:30",
         "Children",
         "Um ansioso e neurótico cãozinho se desgarra de seu dono Plympton e parte rumo a pequenas aventuras ao chegar no Brasil."
        ],
        [
         "5",
         "5",
         "Cantoras Portuguesas",
         "2025-04-22",
         "08:35",
         "Entertainment",
         "Forte e autêntica, Simone de Oliveira comenta as vitórias da mulher portuguesa e do seu trabalho com Amália Rodrigues. Ela revela também não trocar a voz de cantora pela antiga voz de locutora que já teve."
        ],
        [
         "6",
         "6",
         "Guard Dog & Bill Plympton no Brasil",
         "2025-04-22",
         "08:50",
         "Children",
         "Um ansioso e neurótico cãozinho se desgarra de seu dono Plympton e parte rumo a pequenas aventuras ao chegar no Brasil."
        ],
        [
         "7",
         "7",
         "Caramuru - A Invenção do Brasil",
         "2025-04-22",
         "08:55",
         "Comedy / 2001 / 6.6",
         "Portugal, século 16. Após ser enganado pela sedutora Isabelle, o jovem Diogo é deportado para o Brasil, mas sua caravela naufraga. Por milagre, ele é salvo pelo cacique Itaparica. Em terras brasileiras, ele passa a ser chamado de Caramuru e vive um harmônico triângulo amoroso com as duas filhas do cacique, Moema e Paraguaçu."
        ],
        [
         "8",
         "8",
         "Cantoras Portuguesas",
         "2025-04-22",
         "10:25",
         "Entertainment",
         "Forte e autêntica, Simone de Oliveira comenta as vitórias da mulher portuguesa e do seu trabalho com Amália Rodrigues. Ela revela também não trocar a voz de cantora pela antiga voz de locutora que já teve."
        ],
        [
         "9",
         "9",
         "Carlota Joaquina, Princesa do Brazil",
         "2025-04-22",
         "10:45",
         "Comedy drama / 1995",
         "Uma história satírica do Brasil no século 18, narrando as aventuras de uma mulher sensual que manca e tem um bigode."
        ],
        [
         "10",
         "10",
         "Guard Dog & Bill Plympton no Brasil",
         "2025-04-22",
         "12:25",
         "Children",
         "Um ansioso e neurótico cãozinho se desgarra de seu dono Plympton e parte rumo a pequenas aventuras ao chegar no Brasil."
        ],
        [
         "11",
         "11",
         "Bá",
         "2025-04-22",
         "12:30",
         "Drama / 2015",
         "O pequeno Bruno é obrigado a lidar com as mudanças que ocorrem em sua vida quando sua avo? e? trazida para morar em sua casa."
        ],
        [
         "12",
         "12",
         "Cantoras Portuguesas",
         "2025-04-22",
         "12:45",
         "Entertainment",
         "Forte e autêntica, Simone de Oliveira comenta as vitórias da mulher portuguesa e do seu trabalho com Amália Rodrigues. Ela revela também não trocar a voz de cantora pela antiga voz de locutora que já teve."
        ],
        [
         "13",
         "13",
         "Cinejornal",
         "2025-04-22",
         "13:00",
         "Art",
         "O cinema brasileiro em pauta com as novidades e os bastidores da produção nacional, entrevistas com atores e diretores e a cobertura completa de festivais importantes em todo o país."
        ],
        [
         "14",
         "14",
         "Esquinas - Pílulas",
         "2025-04-22",
         "13:15",
         "Documentary",
         "Reportagens documentais inspiradas na seção homônima da Revista Piauí. Personagens e eventos peculiares são colhidos pelos quatro cantos do país com uma abordagem inovadora."
        ],
        [
         "15",
         "15",
         "Cantoras Portuguesas",
         "2025-04-22",
         "13:30",
         "Entertainment",
         "Forte e autêntica, Simone de Oliveira comenta as vitórias da mulher portuguesa e do seu trabalho com Amália Rodrigues. Ela revela também não trocar a voz de cantora pela antiga voz de locutora que já teve."
        ],
        [
         "16",
         "16",
         "Guard Dog & Bill Plympton no Brasil",
         "2025-04-22",
         "13:50",
         "Children",
         "Um ansioso e neurótico cãozinho se desgarra de seu dono Plympton e parte rumo a pequenas aventuras ao chegar no Brasil."
        ],
        [
         "17",
         "17",
         "70 Anos de Edu Lobo",
         "2025-04-22",
         "14:00",
         "Music",
         "Em estúdio, Edu Lobo recebe seus amigos Joyce, Mauro Senise, Gilson Peranzeta, Carlos Malta e Roberta Sá para versões exclusivas de seu repertório."
        ],
        [
         "18",
         "18",
         "70 Anos de Edu Lobo",
         "2025-04-22",
         "14:30",
         "Music",
         "Em estúdio, Edu Lobo recebe seus amigos Joyce, Mauro Senise, Gilson Peranzeta, Carlos Malta e Roberta Sá para versões exclusivas de seu repertório."
        ],
        [
         "19",
         "19",
         "70 Anos de Edu Lobo",
         "2025-04-22",
         "14:55",
         "Music",
         "Em estúdio, Edu Lobo recebe seus amigos Joyce, Mauro Senise, Gilson Peranzeta, Carlos Malta e Roberta Sá para versões exclusivas de seu repertório."
        ],
        [
         "20",
         "20",
         "70 Anos de Edu Lobo",
         "2025-04-22",
         "15:25",
         "Music",
         "Em estúdio, Edu Lobo recebe seus amigos Joyce, Mauro Senise, Gilson Peranzeta, Carlos Malta e Roberta Sá para versões exclusivas de seu repertório."
        ],
        [
         "21",
         "21",
         "Cantoras Portuguesas",
         "2025-04-22",
         "15:50",
         "Entertainment",
         "Forte e autêntica, Simone de Oliveira comenta as vitórias da mulher portuguesa e do seu trabalho com Amália Rodrigues. Ela revela também não trocar a voz de cantora pela antiga voz de locutora que já teve."
        ],
        [
         "22",
         "22",
         "Guard Dog & Bill Plympton no Brasil",
         "2025-04-22",
         "16:05",
         "Children",
         "Um ansioso e neurótico cãozinho se desgarra de seu dono Plympton e parte rumo a pequenas aventuras ao chegar no Brasil."
        ],
        [
         "23",
         "23",
         "Remendo",
         "2025-04-22",
         "16:10",
         "Drama / 2023",
         "Zé é um homem negro de meia-idade que tem uma oficina de eletrodomésticos na periferia e está em busca de amor. Enquanto uma nova inquilina chega ao prédio de sua mãe, ele recorre a divindades para tentar resolver seus problemas amorosos e sua autoestima, enfrentando os traumas invisíveis do colonialismo para encontrar um novo tipo de liberdade."
        ],
        [
         "24",
         "24",
         "Arte na Capa",
         "2025-04-22",
         "16:35",
         "Music",
         "Os bastidores da criação, histórias e curiosidades de capas de discos brasileiros clássicas."
        ],
        [
         "25",
         "25",
         "Fado Tropical",
         "2025-04-22",
         "16:40",
         "Drama / 2019",
         "Após anos separados, os irmãos brasileiros Isabel e Antonio se reencontram na cidade de Lisboa. Agora, a dupla decide embarcar em uma viagem emocionante pelo país natal de seu pai, que faleceu recentemente."
        ],
        [
         "26",
         "26",
         "Cantoras Portuguesas",
         "2025-04-22",
         "18:15",
         "Entertainment",
         "Forte e autêntica, Simone de Oliveira comenta as vitórias da mulher portuguesa e do seu trabalho com Amália Rodrigues. Ela revela também não trocar a voz de cantora pela antiga voz de locutora que já teve."
        ],
        [
         "27",
         "27",
         "Você",
         "2025-04-22",
         "18:30",
         "Drama / 2024 / 5.4",
         "Por meio de uma conversa telefônica com a delegada, uma mãe revisita memórias sobre a convivência com o pai de sua filha enquanto elas discorrem sobre as ausências às quais ele foi condicionado."
        ],
        [
         "28",
         "28",
         "Choque de Cultura",
         "2025-04-22",
         "18:45",
         "Temporada 6 Episódio 7 - Brasil Contra o Resto do Mundo",
         "Neste embate do século, o cinema brasileiro enfrenta a sétima arte do resto do mundo em clima de mata-mata, cachorro invadindo o campo e apedrejamento de ônibus."
        ],
        [
         "29",
         "29",
         "Mito e Música - A Mensagem de Fernando Pessoa",
         "2025-04-22",
         "19:00",
         "Documentary / 2018",
         "O documentário aborda o projeto, que levou 30 anos para ser finalizado, sobre a gravação de 44 músicas criadas para cada poema de Mensagem, um dos livros mais emblemáticos de Fernando Pessoa."
        ],
        [
         "30",
         "30",
         "Cantoras Portuguesas",
         "2025-04-22",
         "20:35",
         "Entertainment",
         "Forte e autêntica, Simone de Oliveira comenta as vitórias da mulher portuguesa e do seu trabalho com Amália Rodrigues. Ela revela também não trocar a voz de cantora pela antiga voz de locutora que já teve."
        ],
        [
         "31",
         "31",
         "A Bela América",
         "2025-04-22",
         "20:50",
         "Comedy / 2023",
         "O cozinheiro Lucas entra na casa de América, estrela de televisão e candidata presidencial, para seduzi-la com refeições extraordinárias."
        ],
        [
         "32",
         "32",
         "Cantoras Portuguesas",
         "2025-04-22",
         "22:35",
         "Entertainment",
         "Forte e autêntica, Simone de Oliveira comenta as vitórias da mulher portuguesa e do seu trabalho com Amália Rodrigues. Ela revela também não trocar a voz de cantora pela antiga voz de locutora que já teve."
        ],
        [
         "33",
         "33",
         "Greice",
         "2025-04-22",
         "22:55",
         "Comedy drama / 2024",
         "Greice, uma jovem brasileira de 21 anos, estuda na Universidade de Belas Artes de Lisboa. Ela se envolve com o misterioso Afonso. E depois de uma festa de boas-vindas para os novos estudantes, o casal é acusado de um estranho acidente que ocorreu no evento. Greice precisa retornar a Fortaleza, sua cidade natal, para renovar a autorização de residência. Escondida em um hotel, enquanto evita que a mãe descubra os problemas em que se envolveu, Greice tenta encontrar um lugar de conforto no mundo."
        ],
        [
         "34",
         "34",
         "Pornolândia",
         "2025-04-22",
         "00:45",
         "Adults only",
         "Márcia Dailyn fala sobre a sua trajetória até se tornar a primeira bailarina transexual do Theatro Municipal de São Paulo e destaca as dificuldades em ser uma artista no Brasil."
        ],
        [
         "35",
         "35",
         "A Noite das Taras",
         "2025-04-22",
         "01:00",
         "Drama / 1980",
         "Três marinheiros tiram um dia de folga em São Paulo. Um deles tem que entregar uma carta a uma misteriosa mulher; o outro descobre que está sendo seguido por marginais e o terceiro conhece algumas moças prontas para uma maratona mortal de sexo."
        ],
        [
         "36",
         "36",
         "502",
         "2025-04-22",
         "02:25",
         "Temporada 1 Episódio 27 - Lino",
         "Lino fala sobre o processo de exposição que está vivendo, a relação ruim com a irmã por conta de sua orientação sexual e o momento em que se afundou nas drogas após a morte dos pais."
        ],
        [
         "37",
         "37",
         "Exorcismo Negro",
         "2025-04-22",
         "02:40",
         "Horror / 1974",
         "O cineasta José Mojica Marins decide passar o fim de semana na casa de campo de seu amigo Álvaro para escrever um roteiro. Após sua chegada, a família do amigo começa a agir de maneira estranha e violenta como se estivesse possuída pelo demônio. Para exorcizar o mal, é necessário realizar um ritual em uma câmara de tortura. Mojica entra em um confronto violento e inusitado com o seu próprio personagem, Zé do Caixão."
        ],
        [
         "38",
         "38",
         "Sobrepostas - Corpo e Desejo",
         "2025-04-22",
         "04:15",
         "Temporada 2 Episódio 7 - Geni Núñez",
         "A ativista indígena Geni Núñez fala de como a evangelização afetou a sua vida, destaca a busca por relações potáveis e comenta que alguns desvios foram muito saudáveis para o seu crescimento."
        ],
        [
         "39",
         "39",
         "Vizinhos",
         "2025-04-22",
         "04:30",
         "Temporada 1 Episódio 9 - Fronteira",
         "O sagrado churrasco em família de Rogério é interrompido por um vizinho folgado e sua música alta."
        ],
        [
         "40",
         "40",
         "Rota de Fuga",
         "2025-04-22",
         "05:00",
         "Thriller / 2016",
         "Manuela denuncia o marido para a Polícia Federal e entra no programa de proteção a testemunhas. Feito isso, ela abandona tudo e tenta fugir pra Europa antes que ele seja solto."
        ],
        [
         "41",
         "41",
         "Cinejornal",
         "2025-04-23",
         "06:00",
         "Art",
         "O cinema brasileiro em pauta com as novidades e os bastidores da produção nacional, entrevistas com atores e diretores e a cobertura completa de festivais importantes em todo o país."
        ],
        [
         "42",
         "42",
         "Esquinas - Pílulas",
         "2025-04-23",
         "06:15",
         "Documentary",
         "Reportagens documentais inspiradas na seção homônima da Revista Piauí. Personagens e eventos peculiares são colhidos pelos quatro cantos do país com uma abordagem inovadora."
        ],
        [
         "43",
         "43",
         "4 Bilhões de Infinitos",
         "2025-04-23",
         "06:30",
         "Drama / 2020",
         "Após a morte do pai, uma família vive com a energia de casa cortada. Enquanto a mãe trabalha, seus filhos ficam em casa e conversam sobre ter esperança."
        ],
        [
         "44",
         "44",
         "Ainda Restarão Robôs nas Ruas do Interior Profundo",
         "2025-04-23",
         "06:44",
         "Drama / 2022",
         "Na periferia do interior profundo brasileiro, Luquinha tenta recuperar sua égua enquanto convive com o crime e o barulho ensurdecedor de uma cidade conservadora."
        ],
        [
         "45",
         "45",
         "Guard Dog & Bill Plympton no Brasil",
         "2025-04-23",
         "07:00",
         "Children",
         "Um ansioso e neurótico cãozinho se desgarra de seu dono Plympton e parte rumo a pequenas aventuras ao chegar no Brasil."
        ],
        [
         "46",
         "46",
         "Vinicius",
         "2025-04-23",
         "07:05",
         "Documentary / 2005 / 7.9",
         "Reconstituição da vida e trajetória artística do músico, poeta e diplomata Vinicius de Moraes, com depoimentos de amigos, familiares e colegas, imagens raras de arquivo, inserções de shows variados e trechos de um pocket show em sua homenagem."
        ],
        [
         "47",
         "47",
         "Ademã - A Vida e as Notas de Ibrahim Sued",
         "2025-04-23",
         "09:10",
         "Documentary / 2022",
         "Conheça a trajetória de Ibrahim Sued, jornalista que revolucionou a imprensa brasileira durante os quase 50 anos de carreira, por meio de entrevistas, fotos e filmes do arquivo pessoal de sua filha, Isabel Sued Perrin."
        ],
        [
         "48",
         "48",
         "Guard Dog & Bill Plympton no Brasil",
         "2025-04-23",
         "10:55",
         "Children",
         "Um ansioso e neurótico cãozinho se desgarra de seu dono Plympton e parte rumo a pequenas aventuras ao chegar no Brasil."
        ],
        [
         "49",
         "49",
         "Cristais de Sangue",
         "2025-04-23",
         "11:00",
         "Drama / 1975",
         "Rui chega em uma cidadezinha procurando o pai. Antes disso, ele se envolve com uma moça, que tem problemas na família. O padrasto da moça é o chefe de uma quadrilha e não mede esforços para que Rui não encontre seu pai."
        ]
       ],
       "shape": {
        "columns": 6,
        "rows": 187
       }
      },
      "text/html": [
       "<div>\n",
       "<style scoped>\n",
       "    .dataframe tbody tr th:only-of-type {\n",
       "        vertical-align: middle;\n",
       "    }\n",
       "\n",
       "    .dataframe tbody tr th {\n",
       "        vertical-align: top;\n",
       "    }\n",
       "\n",
       "    .dataframe thead th {\n",
       "        text-align: right;\n",
       "    }\n",
       "</style>\n",
       "<table border=\"1\" class=\"dataframe\">\n",
       "  <thead>\n",
       "    <tr style=\"text-align: right;\">\n",
       "      <th></th>\n",
       "      <th>Unnamed: 0</th>\n",
       "      <th>titulo</th>\n",
       "      <th>data</th>\n",
       "      <th>horario</th>\n",
       "      <th>genero_ano</th>\n",
       "      <th>sinopse</th>\n",
       "    </tr>\n",
       "  </thead>\n",
       "  <tbody>\n",
       "    <tr>\n",
       "      <th>0</th>\n",
       "      <td>0</td>\n",
       "      <td>Fantasma Neon</td>\n",
       "      <td>2025-04-22</td>\n",
       "      <td>06:00</td>\n",
       "      <td>Musical / 2021</td>\n",
       "      <td>João é um entregador de aplicativo que sonha e...</td>\n",
       "    </tr>\n",
       "    <tr>\n",
       "      <th>1</th>\n",
       "      <td>1</td>\n",
       "      <td>Guard Dog &amp; Bill Plympton no Brasil</td>\n",
       "      <td>2025-04-22</td>\n",
       "      <td>06:23</td>\n",
       "      <td>Children</td>\n",
       "      <td>Um ansioso e neurótico cãozinho se desgarra de...</td>\n",
       "    </tr>\n",
       "    <tr>\n",
       "      <th>2</th>\n",
       "      <td>2</td>\n",
       "      <td>Cantoras Portuguesas</td>\n",
       "      <td>2025-04-22</td>\n",
       "      <td>06:30</td>\n",
       "      <td>Entertainment</td>\n",
       "      <td>Forte e autêntica, Simone de Oliveira comenta ...</td>\n",
       "    </tr>\n",
       "    <tr>\n",
       "      <th>3</th>\n",
       "      <td>3</td>\n",
       "      <td>Portugal... Minha Saudade</td>\n",
       "      <td>2025-04-22</td>\n",
       "      <td>06:45</td>\n",
       "      <td>Comedy / 1974 / 5.5</td>\n",
       "      <td>Os gêmeos Sabino e Agostinho vivem separados u...</td>\n",
       "    </tr>\n",
       "    <tr>\n",
       "      <th>4</th>\n",
       "      <td>4</td>\n",
       "      <td>Guard Dog &amp; Bill Plympton no Brasil</td>\n",
       "      <td>2025-04-22</td>\n",
       "      <td>08:30</td>\n",
       "      <td>Children</td>\n",
       "      <td>Um ansioso e neurótico cãozinho se desgarra de...</td>\n",
       "    </tr>\n",
       "    <tr>\n",
       "      <th>...</th>\n",
       "      <td>...</td>\n",
       "      <td>...</td>\n",
       "      <td>...</td>\n",
       "      <td>...</td>\n",
       "      <td>...</td>\n",
       "      <td>...</td>\n",
       "    </tr>\n",
       "    <tr>\n",
       "      <th>182</th>\n",
       "      <td>182</td>\n",
       "      <td>Guard Dog &amp; Bill Plympton no Brasil</td>\n",
       "      <td>2025-04-27</td>\n",
       "      <td>03:55</td>\n",
       "      <td>Children</td>\n",
       "      <td>Um ansioso e neurótico cãozinho se desgarra de...</td>\n",
       "    </tr>\n",
       "    <tr>\n",
       "      <th>183</th>\n",
       "      <td>183</td>\n",
       "      <td>Vizinhos</td>\n",
       "      <td>2025-04-27</td>\n",
       "      <td>04:00</td>\n",
       "      <td>Temporada 1 Episódio 10 - Os Outros</td>\n",
       "      <td>A chegada de uma família de hippies em um cond...</td>\n",
       "    </tr>\n",
       "    <tr>\n",
       "      <th>184</th>\n",
       "      <td>184</td>\n",
       "      <td>Bonde</td>\n",
       "      <td>2025-04-27</td>\n",
       "      <td>04:30</td>\n",
       "      <td>Drama / 2019</td>\n",
       "      <td>Três jovens negros da favela de Heliópolis sae...</td>\n",
       "    </tr>\n",
       "    <tr>\n",
       "      <th>185</th>\n",
       "      <td>185</td>\n",
       "      <td>Os Mutantes</td>\n",
       "      <td>2025-04-27</td>\n",
       "      <td>04:49</td>\n",
       "      <td>Drama / 1970</td>\n",
       "      <td>Uma brincadeira mutante improvisada por Arnald...</td>\n",
       "    </tr>\n",
       "    <tr>\n",
       "      <th>186</th>\n",
       "      <td>186</td>\n",
       "      <td>Jards</td>\n",
       "      <td>2025-04-27</td>\n",
       "      <td>05:00</td>\n",
       "      <td>Documentary / 2013</td>\n",
       "      <td>A vida e a obra do cantor, músico e ator Jards...</td>\n",
       "    </tr>\n",
       "  </tbody>\n",
       "</table>\n",
       "<p>187 rows × 6 columns</p>\n",
       "</div>"
      ],
      "text/plain": [
       "     Unnamed: 0                               titulo        data horario  \\\n",
       "0             0                        Fantasma Neon  2025-04-22   06:00   \n",
       "1             1  Guard Dog & Bill Plympton no Brasil  2025-04-22   06:23   \n",
       "2             2                 Cantoras Portuguesas  2025-04-22   06:30   \n",
       "3             3            Portugal... Minha Saudade  2025-04-22   06:45   \n",
       "4             4  Guard Dog & Bill Plympton no Brasil  2025-04-22   08:30   \n",
       "..          ...                                  ...         ...     ...   \n",
       "182         182  Guard Dog & Bill Plympton no Brasil  2025-04-27   03:55   \n",
       "183         183                             Vizinhos  2025-04-27   04:00   \n",
       "184         184                                Bonde  2025-04-27   04:30   \n",
       "185         185                          Os Mutantes  2025-04-27   04:49   \n",
       "186         186                                Jards  2025-04-27   05:00   \n",
       "\n",
       "                              genero_ano  \\\n",
       "0                         Musical / 2021   \n",
       "1                               Children   \n",
       "2                          Entertainment   \n",
       "3                    Comedy / 1974 / 5.5   \n",
       "4                               Children   \n",
       "..                                   ...   \n",
       "182                             Children   \n",
       "183  Temporada 1 Episódio 10 - Os Outros   \n",
       "184                         Drama / 2019   \n",
       "185                         Drama / 1970   \n",
       "186                   Documentary / 2013   \n",
       "\n",
       "                                               sinopse  \n",
       "0    João é um entregador de aplicativo que sonha e...  \n",
       "1    Um ansioso e neurótico cãozinho se desgarra de...  \n",
       "2    Forte e autêntica, Simone de Oliveira comenta ...  \n",
       "3    Os gêmeos Sabino e Agostinho vivem separados u...  \n",
       "4    Um ansioso e neurótico cãozinho se desgarra de...  \n",
       "..                                                 ...  \n",
       "182  Um ansioso e neurótico cãozinho se desgarra de...  \n",
       "183  A chegada de uma família de hippies em um cond...  \n",
       "184  Três jovens negros da favela de Heliópolis sae...  \n",
       "185  Uma brincadeira mutante improvisada por Arnald...  \n",
       "186  A vida e a obra do cantor, músico e ator Jards...  \n",
       "\n",
       "[187 rows x 6 columns]"
      ]
     },
     "execution_count": 5,
     "metadata": {},
     "output_type": "execute_result"
    }
   ],
   "source": [
    "df"
   ]
  },
  {
   "cell_type": "code",
   "execution_count": null,
   "id": "b1537270-07ab-4052-929a-95e2df6f8fbd",
   "metadata": {},
   "outputs": [
    {
     "ename": "NameError",
     "evalue": "name 'spark' is not defined",
     "output_type": "error",
     "traceback": [
      "\u001b[31m---------------------------------------------------------------------------\u001b[39m",
      "\u001b[31mNameError\u001b[39m                                 Traceback (most recent call last)",
      "\u001b[36mCell\u001b[39m\u001b[36m \u001b[39m\u001b[32mIn[6]\u001b[39m\u001b[32m, line 5\u001b[39m\n\u001b[32m      2\u001b[39m \u001b[38;5;28;01mfrom\u001b[39;00m\u001b[38;5;250m \u001b[39m\u001b[34;01mpyspark\u001b[39;00m\u001b[34;01m.\u001b[39;00m\u001b[34;01msql\u001b[39;00m\u001b[38;5;250m \u001b[39m\u001b[38;5;28;01mimport\u001b[39;00m SparkSession\n\u001b[32m      3\u001b[39m \u001b[38;5;28;01mfrom\u001b[39;00m\u001b[38;5;250m \u001b[39m\u001b[34;01mpyspark\u001b[39;00m\u001b[34;01m.\u001b[39;00m\u001b[34;01msql\u001b[39;00m\u001b[34;01m.\u001b[39;00m\u001b[34;01mfunctions\u001b[39;00m\u001b[38;5;250m \u001b[39m\u001b[38;5;28;01mimport\u001b[39;00m concat_ws, to_timestamp\n\u001b[32m----> \u001b[39m\u001b[32m5\u001b[39m df = \u001b[43mspark\u001b[49m.read.csv(\u001b[33m\"\u001b[39m\u001b[33mdataraw.csv\u001b[39m\u001b[33m\"\u001b[39m, header = \u001b[38;5;28;01mTrue\u001b[39;00m, inferSchema = \u001b[38;5;28;01mTrue\u001b[39;00m)\n\u001b[32m      7\u001b[39m \u001b[38;5;66;03m# Supondo que você já tenha criado o SparkSession\u001b[39;00m\n\u001b[32m      8\u001b[39m spark = SparkSession.builder.getOrCreate()\n",
      "\u001b[31mNameError\u001b[39m: name 'spark' is not defined"
     ]
    }
   ],
   "source": [
    "import pandas as pd\n",
    "from pyspark.sql import SparkSession\n",
    "from pyspark.sql.functions import concat_ws, to_timestamp\n",
    "\n",
    "df = spark.read.csv(\"dataraw.csv\", header = True, inferSchema = True)\n",
    "\n",
    "# Supondo que você já tenha criado o SparkSession\n",
    "spark = SparkSession.builder.getOrCreate()\n",
    "\n",
    "# Exemplo: df com colunas 'DATA' e 'HORARIO'\n",
    "# df = spark.read.csv(...)\n",
    "\n",
    "# Concatena DATA e HORARIO e transforma em timestamp\n",
    "df = df.withColumn(\"DATETIME\", to_timestamp(concat_ws(\" \", df[\"DATA\"], df[\"HORARIO\"]), \"yyyy-MM-dd HH:mm:ss\"))\n",
    "\n",
    "# Exibe o resultado\n",
    "df.select(\"DATA\", \"HORARIO\", \"DATETIME\").show()"
   ]
  },
  {
   "cell_type": "code",
   "execution_count": null,
   "id": "a1d66760-b817-4f8a-ade8-2a42443f9161",
   "metadata": {},
   "outputs": [
    {
     "ename": "PySparkRuntimeError",
     "evalue": "[JAVA_GATEWAY_EXITED] Java gateway process exited before sending its port number.",
     "output_type": "error",
     "traceback": [
      "\u001b[31m---------------------------------------------------------------------------\u001b[39m",
      "\u001b[31mPySparkRuntimeError\u001b[39m                       Traceback (most recent call last)",
      "\u001b[36mCell\u001b[39m\u001b[36m \u001b[39m\u001b[32mIn[7]\u001b[39m\u001b[32m, line 7\u001b[39m\n\u001b[32m      3\u001b[39m \u001b[38;5;28;01mfrom\u001b[39;00m\u001b[38;5;250m \u001b[39m\u001b[34;01mpyspark\u001b[39;00m\u001b[34;01m.\u001b[39;00m\u001b[34;01msql\u001b[39;00m\u001b[34;01m.\u001b[39;00m\u001b[34;01mfunctions\u001b[39;00m\u001b[38;5;250m \u001b[39m\u001b[38;5;28;01mimport\u001b[39;00m concat_ws, to_timestamp\n\u001b[32m      6\u001b[39m \u001b[38;5;66;03m# Supondo que você já tenha criado o SparkSession\u001b[39;00m\n\u001b[32m----> \u001b[39m\u001b[32m7\u001b[39m spark = \u001b[43mSparkSession\u001b[49m\u001b[43m.\u001b[49m\u001b[43mbuilder\u001b[49m\u001b[43m.\u001b[49m\u001b[43mgetOrCreate\u001b[49m\u001b[43m(\u001b[49m\u001b[43m)\u001b[49m\n\u001b[32m      9\u001b[39m df = spark.read.csv(\u001b[33m\"\u001b[39m\u001b[33mdataraw.csv\u001b[39m\u001b[33m\"\u001b[39m, header = \u001b[38;5;28;01mTrue\u001b[39;00m, inferSchema = \u001b[38;5;28;01mTrue\u001b[39;00m)\n\u001b[32m     11\u001b[39m df = df.withColumn(\u001b[33m\"\u001b[39m\u001b[33mdatetime\u001b[39m\u001b[33m\"\u001b[39m, to_timestamp(concat_ws(\u001b[33m\"\u001b[39m\u001b[33m \u001b[39m\u001b[33m\"\u001b[39m, df[\u001b[33m\"\u001b[39m\u001b[33mdata\u001b[39m\u001b[33m\"\u001b[39m], df[\u001b[33m\"\u001b[39m\u001b[33mhorario\u001b[39m\u001b[33m\"\u001b[39m]), \u001b[33m\"\u001b[39m\u001b[33myyyy-MM-dd HH:mm:ss\u001b[39m\u001b[33m\"\u001b[39m))\n",
      "\u001b[36mFile \u001b[39m\u001b[32mc:\\Users\\Felli\\.code\\.venv\\Lib\\site-packages\\pyspark\\sql\\session.py:497\u001b[39m, in \u001b[36mSparkSession.Builder.getOrCreate\u001b[39m\u001b[34m(self)\u001b[39m\n\u001b[32m    495\u001b[39m     sparkConf.set(key, value)\n\u001b[32m    496\u001b[39m \u001b[38;5;66;03m# This SparkContext may be an existing one.\u001b[39;00m\n\u001b[32m--> \u001b[39m\u001b[32m497\u001b[39m sc = \u001b[43mSparkContext\u001b[49m\u001b[43m.\u001b[49m\u001b[43mgetOrCreate\u001b[49m\u001b[43m(\u001b[49m\u001b[43msparkConf\u001b[49m\u001b[43m)\u001b[49m\n\u001b[32m    498\u001b[39m \u001b[38;5;66;03m# Do not update `SparkConf` for existing `SparkContext`, as it's shared\u001b[39;00m\n\u001b[32m    499\u001b[39m \u001b[38;5;66;03m# by all sessions.\u001b[39;00m\n\u001b[32m    500\u001b[39m session = SparkSession(sc, options=\u001b[38;5;28mself\u001b[39m._options)\n",
      "\u001b[36mFile \u001b[39m\u001b[32mc:\\Users\\Felli\\.code\\.venv\\Lib\\site-packages\\pyspark\\context.py:515\u001b[39m, in \u001b[36mSparkContext.getOrCreate\u001b[39m\u001b[34m(cls, conf)\u001b[39m\n\u001b[32m    513\u001b[39m \u001b[38;5;28;01mwith\u001b[39;00m SparkContext._lock:\n\u001b[32m    514\u001b[39m     \u001b[38;5;28;01mif\u001b[39;00m SparkContext._active_spark_context \u001b[38;5;129;01mis\u001b[39;00m \u001b[38;5;28;01mNone\u001b[39;00m:\n\u001b[32m--> \u001b[39m\u001b[32m515\u001b[39m         \u001b[43mSparkContext\u001b[49m\u001b[43m(\u001b[49m\u001b[43mconf\u001b[49m\u001b[43m=\u001b[49m\u001b[43mconf\u001b[49m\u001b[43m \u001b[49m\u001b[38;5;129;43;01mor\u001b[39;49;00m\u001b[43m \u001b[49m\u001b[43mSparkConf\u001b[49m\u001b[43m(\u001b[49m\u001b[43m)\u001b[49m\u001b[43m)\u001b[49m\n\u001b[32m    516\u001b[39m     \u001b[38;5;28;01massert\u001b[39;00m SparkContext._active_spark_context \u001b[38;5;129;01mis\u001b[39;00m \u001b[38;5;129;01mnot\u001b[39;00m \u001b[38;5;28;01mNone\u001b[39;00m\n\u001b[32m    517\u001b[39m     \u001b[38;5;28;01mreturn\u001b[39;00m SparkContext._active_spark_context\n",
      "\u001b[36mFile \u001b[39m\u001b[32mc:\\Users\\Felli\\.code\\.venv\\Lib\\site-packages\\pyspark\\context.py:201\u001b[39m, in \u001b[36mSparkContext.__init__\u001b[39m\u001b[34m(self, master, appName, sparkHome, pyFiles, environment, batchSize, serializer, conf, gateway, jsc, profiler_cls, udf_profiler_cls, memory_profiler_cls)\u001b[39m\n\u001b[32m    195\u001b[39m \u001b[38;5;28;01mif\u001b[39;00m gateway \u001b[38;5;129;01mis\u001b[39;00m \u001b[38;5;129;01mnot\u001b[39;00m \u001b[38;5;28;01mNone\u001b[39;00m \u001b[38;5;129;01mand\u001b[39;00m gateway.gateway_parameters.auth_token \u001b[38;5;129;01mis\u001b[39;00m \u001b[38;5;28;01mNone\u001b[39;00m:\n\u001b[32m    196\u001b[39m     \u001b[38;5;28;01mraise\u001b[39;00m \u001b[38;5;167;01mValueError\u001b[39;00m(\n\u001b[32m    197\u001b[39m         \u001b[33m\"\u001b[39m\u001b[33mYou are trying to pass an insecure Py4j gateway to Spark. This\u001b[39m\u001b[33m\"\u001b[39m\n\u001b[32m    198\u001b[39m         \u001b[33m\"\u001b[39m\u001b[33m is not allowed as it is a security risk.\u001b[39m\u001b[33m\"\u001b[39m\n\u001b[32m    199\u001b[39m     )\n\u001b[32m--> \u001b[39m\u001b[32m201\u001b[39m \u001b[43mSparkContext\u001b[49m\u001b[43m.\u001b[49m\u001b[43m_ensure_initialized\u001b[49m\u001b[43m(\u001b[49m\u001b[38;5;28;43mself\u001b[39;49m\u001b[43m,\u001b[49m\u001b[43m \u001b[49m\u001b[43mgateway\u001b[49m\u001b[43m=\u001b[49m\u001b[43mgateway\u001b[49m\u001b[43m,\u001b[49m\u001b[43m \u001b[49m\u001b[43mconf\u001b[49m\u001b[43m=\u001b[49m\u001b[43mconf\u001b[49m\u001b[43m)\u001b[49m\n\u001b[32m    202\u001b[39m \u001b[38;5;28;01mtry\u001b[39;00m:\n\u001b[32m    203\u001b[39m     \u001b[38;5;28mself\u001b[39m._do_init(\n\u001b[32m    204\u001b[39m         master,\n\u001b[32m    205\u001b[39m         appName,\n\u001b[32m   (...)\u001b[39m\u001b[32m    215\u001b[39m         memory_profiler_cls,\n\u001b[32m    216\u001b[39m     )\n",
      "\u001b[36mFile \u001b[39m\u001b[32mc:\\Users\\Felli\\.code\\.venv\\Lib\\site-packages\\pyspark\\context.py:436\u001b[39m, in \u001b[36mSparkContext._ensure_initialized\u001b[39m\u001b[34m(cls, instance, gateway, conf)\u001b[39m\n\u001b[32m    434\u001b[39m \u001b[38;5;28;01mwith\u001b[39;00m SparkContext._lock:\n\u001b[32m    435\u001b[39m     \u001b[38;5;28;01mif\u001b[39;00m \u001b[38;5;129;01mnot\u001b[39;00m SparkContext._gateway:\n\u001b[32m--> \u001b[39m\u001b[32m436\u001b[39m         SparkContext._gateway = gateway \u001b[38;5;129;01mor\u001b[39;00m \u001b[43mlaunch_gateway\u001b[49m\u001b[43m(\u001b[49m\u001b[43mconf\u001b[49m\u001b[43m)\u001b[49m\n\u001b[32m    437\u001b[39m         SparkContext._jvm = SparkContext._gateway.jvm\n\u001b[32m    439\u001b[39m     \u001b[38;5;28;01mif\u001b[39;00m instance:\n",
      "\u001b[36mFile \u001b[39m\u001b[32mc:\\Users\\Felli\\.code\\.venv\\Lib\\site-packages\\pyspark\\java_gateway.py:107\u001b[39m, in \u001b[36mlaunch_gateway\u001b[39m\u001b[34m(conf, popen_kwargs)\u001b[39m\n\u001b[32m    104\u001b[39m     time.sleep(\u001b[32m0.1\u001b[39m)\n\u001b[32m    106\u001b[39m \u001b[38;5;28;01mif\u001b[39;00m \u001b[38;5;129;01mnot\u001b[39;00m os.path.isfile(conn_info_file):\n\u001b[32m--> \u001b[39m\u001b[32m107\u001b[39m     \u001b[38;5;28;01mraise\u001b[39;00m PySparkRuntimeError(\n\u001b[32m    108\u001b[39m         error_class=\u001b[33m\"\u001b[39m\u001b[33mJAVA_GATEWAY_EXITED\u001b[39m\u001b[33m\"\u001b[39m,\n\u001b[32m    109\u001b[39m         message_parameters={},\n\u001b[32m    110\u001b[39m     )\n\u001b[32m    112\u001b[39m \u001b[38;5;28;01mwith\u001b[39;00m \u001b[38;5;28mopen\u001b[39m(conn_info_file, \u001b[33m\"\u001b[39m\u001b[33mrb\u001b[39m\u001b[33m\"\u001b[39m) \u001b[38;5;28;01mas\u001b[39;00m info:\n\u001b[32m    113\u001b[39m     gateway_port = read_int(info)\n",
      "\u001b[31mPySparkRuntimeError\u001b[39m: [JAVA_GATEWAY_EXITED] Java gateway process exited before sending its port number."
     ]
    }
   ],
   "source": [
    "import pandas as pd\n",
    "from pyspark.sql import SparkSession\n",
    "from pyspark.sql.functions import concat_ws, to_timestamp\n",
    "\n",
    "\n",
    "# Supondo que você já tenha criado o SparkSession\n",
    "spark = SparkSession.builder.getOrCreate()\n",
    "\n",
    "df = spark.read.csv(\"dataraw.csv\", header = True, inferSchema = True)\n",
    "\n",
    "df = df.withColumn(\"datetime\", to_timestamp(concat_ws(\" \", df[\"data\"], df[\"horario\"]), \"yyyy-MM-dd HH:mm:ss\"))\n",
    "\n",
    "# Exibe o resultado\n",
    "df.select(\"data\", \"horario\", \"datetime\").show()"
   ]
  },
  {
   "cell_type": "code",
   "execution_count": null,
   "id": "2ef4485e-e62d-4cdd-9744-5bed664df4e1",
   "metadata": {},
   "outputs": [
    {
     "ename": "ValueError",
     "evalue": "time data \"2025-04-22 06:00\" doesn't match format \"%Y-%m-%d %H:%M:%S\", at position 0. You might want to try:\n    - passing `format` if your strings have a consistent format;\n    - passing `format='ISO8601'` if your strings are all ISO8601 but not necessarily in exactly the same format;\n    - passing `format='mixed'`, and the format will be inferred for each element individually. You might want to use `dayfirst` alongside this.",
     "output_type": "error",
     "traceback": [
      "\u001b[31m---------------------------------------------------------------------------\u001b[39m",
      "\u001b[31mValueError\u001b[39m                                Traceback (most recent call last)",
      "\u001b[36mCell\u001b[39m\u001b[36m \u001b[39m\u001b[32mIn[8]\u001b[39m\u001b[32m, line 5\u001b[39m\n\u001b[32m      1\u001b[39m \u001b[38;5;28;01mimport\u001b[39;00m\u001b[38;5;250m \u001b[39m\u001b[34;01mpandas\u001b[39;00m\u001b[38;5;250m \u001b[39m\u001b[38;5;28;01mas\u001b[39;00m\u001b[38;5;250m \u001b[39m\u001b[34;01mpd\u001b[39;00m\n\u001b[32m      3\u001b[39m df = pd.read_csv(\u001b[33m'\u001b[39m\u001b[33mdataraw.csv\u001b[39m\u001b[33m'\u001b[39m)\n\u001b[32m----> \u001b[39m\u001b[32m5\u001b[39m df[\u001b[33m'\u001b[39m\u001b[33mdatetime\u001b[39m\u001b[33m'\u001b[39m] = \u001b[43mpd\u001b[49m\u001b[43m.\u001b[49m\u001b[43mto_datetime\u001b[49m\u001b[43m(\u001b[49m\u001b[43mdf\u001b[49m\u001b[43m[\u001b[49m\u001b[33;43m'\u001b[39;49m\u001b[33;43mdata\u001b[39;49m\u001b[33;43m'\u001b[39;49m\u001b[43m]\u001b[49m\u001b[43m \u001b[49m\u001b[43m+\u001b[49m\u001b[43m \u001b[49m\u001b[33;43m'\u001b[39;49m\u001b[33;43m \u001b[39;49m\u001b[33;43m'\u001b[39;49m\u001b[43m \u001b[49m\u001b[43m+\u001b[49m\u001b[43m \u001b[49m\u001b[43mdf\u001b[49m\u001b[43m[\u001b[49m\u001b[33;43m'\u001b[39;49m\u001b[33;43mhorario\u001b[39;49m\u001b[33;43m'\u001b[39;49m\u001b[43m]\u001b[49m\u001b[43m,\u001b[49m\u001b[43m \u001b[49m\u001b[38;5;28;43mformat\u001b[39;49m\u001b[43m=\u001b[49m\u001b[33;43m'\u001b[39;49m\u001b[33;43m%\u001b[39;49m\u001b[33;43mY-\u001b[39;49m\u001b[33;43m%\u001b[39;49m\u001b[33;43mm-\u001b[39;49m\u001b[38;5;132;43;01m%d\u001b[39;49;00m\u001b[33;43m \u001b[39;49m\u001b[33;43m%\u001b[39;49m\u001b[33;43mH:\u001b[39;49m\u001b[33;43m%\u001b[39;49m\u001b[33;43mM:\u001b[39;49m\u001b[33;43m%\u001b[39;49m\u001b[33;43mS\u001b[39;49m\u001b[33;43m'\u001b[39;49m\u001b[43m)\u001b[49m\n",
      "\u001b[36mFile \u001b[39m\u001b[32mc:\\Users\\Felli\\.code\\.venv\\Lib\\site-packages\\pandas\\core\\tools\\datetimes.py:1067\u001b[39m, in \u001b[36mto_datetime\u001b[39m\u001b[34m(arg, errors, dayfirst, yearfirst, utc, format, exact, unit, infer_datetime_format, origin, cache)\u001b[39m\n\u001b[32m   1065\u001b[39m         result = arg.map(cache_array)\n\u001b[32m   1066\u001b[39m     \u001b[38;5;28;01melse\u001b[39;00m:\n\u001b[32m-> \u001b[39m\u001b[32m1067\u001b[39m         values = \u001b[43mconvert_listlike\u001b[49m\u001b[43m(\u001b[49m\u001b[43marg\u001b[49m\u001b[43m.\u001b[49m\u001b[43m_values\u001b[49m\u001b[43m,\u001b[49m\u001b[43m \u001b[49m\u001b[38;5;28;43mformat\u001b[39;49m\u001b[43m)\u001b[49m\n\u001b[32m   1068\u001b[39m         result = arg._constructor(values, index=arg.index, name=arg.name)\n\u001b[32m   1069\u001b[39m \u001b[38;5;28;01melif\u001b[39;00m \u001b[38;5;28misinstance\u001b[39m(arg, (ABCDataFrame, abc.MutableMapping)):\n",
      "\u001b[36mFile \u001b[39m\u001b[32mc:\\Users\\Felli\\.code\\.venv\\Lib\\site-packages\\pandas\\core\\tools\\datetimes.py:433\u001b[39m, in \u001b[36m_convert_listlike_datetimes\u001b[39m\u001b[34m(arg, format, name, utc, unit, errors, dayfirst, yearfirst, exact)\u001b[39m\n\u001b[32m    431\u001b[39m \u001b[38;5;66;03m# `format` could be inferred, or user didn't ask for mixed-format parsing.\u001b[39;00m\n\u001b[32m    432\u001b[39m \u001b[38;5;28;01mif\u001b[39;00m \u001b[38;5;28mformat\u001b[39m \u001b[38;5;129;01mis\u001b[39;00m \u001b[38;5;129;01mnot\u001b[39;00m \u001b[38;5;28;01mNone\u001b[39;00m \u001b[38;5;129;01mand\u001b[39;00m \u001b[38;5;28mformat\u001b[39m != \u001b[33m\"\u001b[39m\u001b[33mmixed\u001b[39m\u001b[33m\"\u001b[39m:\n\u001b[32m--> \u001b[39m\u001b[32m433\u001b[39m     \u001b[38;5;28;01mreturn\u001b[39;00m \u001b[43m_array_strptime_with_fallback\u001b[49m\u001b[43m(\u001b[49m\u001b[43marg\u001b[49m\u001b[43m,\u001b[49m\u001b[43m \u001b[49m\u001b[43mname\u001b[49m\u001b[43m,\u001b[49m\u001b[43m \u001b[49m\u001b[43mutc\u001b[49m\u001b[43m,\u001b[49m\u001b[43m \u001b[49m\u001b[38;5;28;43mformat\u001b[39;49m\u001b[43m,\u001b[49m\u001b[43m \u001b[49m\u001b[43mexact\u001b[49m\u001b[43m,\u001b[49m\u001b[43m \u001b[49m\u001b[43merrors\u001b[49m\u001b[43m)\u001b[49m\n\u001b[32m    435\u001b[39m result, tz_parsed = objects_to_datetime64(\n\u001b[32m    436\u001b[39m     arg,\n\u001b[32m    437\u001b[39m     dayfirst=dayfirst,\n\u001b[32m   (...)\u001b[39m\u001b[32m    441\u001b[39m     allow_object=\u001b[38;5;28;01mTrue\u001b[39;00m,\n\u001b[32m    442\u001b[39m )\n\u001b[32m    444\u001b[39m \u001b[38;5;28;01mif\u001b[39;00m tz_parsed \u001b[38;5;129;01mis\u001b[39;00m \u001b[38;5;129;01mnot\u001b[39;00m \u001b[38;5;28;01mNone\u001b[39;00m:\n\u001b[32m    445\u001b[39m     \u001b[38;5;66;03m# We can take a shortcut since the datetime64 numpy array\u001b[39;00m\n\u001b[32m    446\u001b[39m     \u001b[38;5;66;03m# is in UTC\u001b[39;00m\n",
      "\u001b[36mFile \u001b[39m\u001b[32mc:\\Users\\Felli\\.code\\.venv\\Lib\\site-packages\\pandas\\core\\tools\\datetimes.py:467\u001b[39m, in \u001b[36m_array_strptime_with_fallback\u001b[39m\u001b[34m(arg, name, utc, fmt, exact, errors)\u001b[39m\n\u001b[32m    456\u001b[39m \u001b[38;5;28;01mdef\u001b[39;00m\u001b[38;5;250m \u001b[39m\u001b[34m_array_strptime_with_fallback\u001b[39m(\n\u001b[32m    457\u001b[39m     arg,\n\u001b[32m    458\u001b[39m     name,\n\u001b[32m   (...)\u001b[39m\u001b[32m    462\u001b[39m     errors: \u001b[38;5;28mstr\u001b[39m,\n\u001b[32m    463\u001b[39m ) -> Index:\n\u001b[32m    464\u001b[39m \u001b[38;5;250m    \u001b[39m\u001b[33;03m\"\"\"\u001b[39;00m\n\u001b[32m    465\u001b[39m \u001b[33;03m    Call array_strptime, with fallback behavior depending on 'errors'.\u001b[39;00m\n\u001b[32m    466\u001b[39m \u001b[33;03m    \"\"\"\u001b[39;00m\n\u001b[32m--> \u001b[39m\u001b[32m467\u001b[39m     result, tz_out = \u001b[43marray_strptime\u001b[49m\u001b[43m(\u001b[49m\u001b[43marg\u001b[49m\u001b[43m,\u001b[49m\u001b[43m \u001b[49m\u001b[43mfmt\u001b[49m\u001b[43m,\u001b[49m\u001b[43m \u001b[49m\u001b[43mexact\u001b[49m\u001b[43m=\u001b[49m\u001b[43mexact\u001b[49m\u001b[43m,\u001b[49m\u001b[43m \u001b[49m\u001b[43merrors\u001b[49m\u001b[43m=\u001b[49m\u001b[43merrors\u001b[49m\u001b[43m,\u001b[49m\u001b[43m \u001b[49m\u001b[43mutc\u001b[49m\u001b[43m=\u001b[49m\u001b[43mutc\u001b[49m\u001b[43m)\u001b[49m\n\u001b[32m    468\u001b[39m     \u001b[38;5;28;01mif\u001b[39;00m tz_out \u001b[38;5;129;01mis\u001b[39;00m \u001b[38;5;129;01mnot\u001b[39;00m \u001b[38;5;28;01mNone\u001b[39;00m:\n\u001b[32m    469\u001b[39m         unit = np.datetime_data(result.dtype)[\u001b[32m0\u001b[39m]\n",
      "\u001b[36mFile \u001b[39m\u001b[32mstrptime.pyx:501\u001b[39m, in \u001b[36mpandas._libs.tslibs.strptime.array_strptime\u001b[39m\u001b[34m()\u001b[39m\n",
      "\u001b[36mFile \u001b[39m\u001b[32mstrptime.pyx:451\u001b[39m, in \u001b[36mpandas._libs.tslibs.strptime.array_strptime\u001b[39m\u001b[34m()\u001b[39m\n",
      "\u001b[36mFile \u001b[39m\u001b[32mstrptime.pyx:583\u001b[39m, in \u001b[36mpandas._libs.tslibs.strptime._parse_with_format\u001b[39m\u001b[34m()\u001b[39m\n",
      "\u001b[31mValueError\u001b[39m: time data \"2025-04-22 06:00\" doesn't match format \"%Y-%m-%d %H:%M:%S\", at position 0. You might want to try:\n    - passing `format` if your strings have a consistent format;\n    - passing `format='ISO8601'` if your strings are all ISO8601 but not necessarily in exactly the same format;\n    - passing `format='mixed'`, and the format will be inferred for each element individually. You might want to use `dayfirst` alongside this."
     ]
    }
   ],
   "source": [
    "import pandas as pd\n",
    "\n",
    "df = pd.read_csv('dataraw.csv')\n",
    "\n",
    "df['datetime'] = pd.to_datetime(df['data'] + ' ' + df['horario'], format='%Y-%m-%d %H:%M:%S')"
   ]
  },
  {
   "cell_type": "code",
   "execution_count": null,
   "id": "2fc73b96-6620-4d2f-ab7f-ed4fd186a298",
   "metadata": {},
   "outputs": [
    {
     "ename": "ValueError",
     "evalue": "time data \"2025-04-22 06:00\" doesn't match format \"%Y-%m-%d %H:%M:%S\", at position 0. You might want to try:\n    - passing `format` if your strings have a consistent format;\n    - passing `format='ISO8601'` if your strings are all ISO8601 but not necessarily in exactly the same format;\n    - passing `format='mixed'`, and the format will be inferred for each element individually. You might want to use `dayfirst` alongside this.",
     "output_type": "error",
     "traceback": [
      "\u001b[31m---------------------------------------------------------------------------\u001b[39m",
      "\u001b[31mValueError\u001b[39m                                Traceback (most recent call last)",
      "\u001b[36mCell\u001b[39m\u001b[36m \u001b[39m\u001b[32mIn[9]\u001b[39m\u001b[32m, line 5\u001b[39m\n\u001b[32m      1\u001b[39m \u001b[38;5;28;01mimport\u001b[39;00m\u001b[38;5;250m \u001b[39m\u001b[34;01mpandas\u001b[39;00m\u001b[38;5;250m \u001b[39m\u001b[38;5;28;01mas\u001b[39;00m\u001b[38;5;250m \u001b[39m\u001b[34;01mpd\u001b[39;00m\n\u001b[32m      3\u001b[39m df = pd.read_csv(\u001b[33m'\u001b[39m\u001b[33mdataraw.csv\u001b[39m\u001b[33m'\u001b[39m)\n\u001b[32m----> \u001b[39m\u001b[32m5\u001b[39m df[\u001b[33m'\u001b[39m\u001b[33mdatetime\u001b[39m\u001b[33m'\u001b[39m] = \u001b[43mpd\u001b[49m\u001b[43m.\u001b[49m\u001b[43mto_datetime\u001b[49m\u001b[43m(\u001b[49m\u001b[43mdf\u001b[49m\u001b[43m[\u001b[49m\u001b[33;43m'\u001b[39;49m\u001b[33;43mdata\u001b[39;49m\u001b[33;43m'\u001b[39;49m\u001b[43m]\u001b[49m\u001b[43m \u001b[49m\u001b[43m+\u001b[49m\u001b[43m \u001b[49m\u001b[33;43m'\u001b[39;49m\u001b[33;43m \u001b[39;49m\u001b[33;43m'\u001b[39;49m\u001b[43m \u001b[49m\u001b[43m+\u001b[49m\u001b[43m \u001b[49m\u001b[43mdf\u001b[49m\u001b[43m[\u001b[49m\u001b[33;43m'\u001b[39;49m\u001b[33;43mhorario\u001b[39;49m\u001b[33;43m'\u001b[39;49m\u001b[43m]\u001b[49m\u001b[43m,\u001b[49m\u001b[43m \u001b[49m\u001b[38;5;28;43mformat\u001b[39;49m\u001b[43m=\u001b[49m\u001b[33;43m'\u001b[39;49m\u001b[33;43m%\u001b[39;49m\u001b[33;43mY-\u001b[39;49m\u001b[33;43m%\u001b[39;49m\u001b[33;43mm-\u001b[39;49m\u001b[38;5;132;43;01m%d\u001b[39;49;00m\u001b[33;43m \u001b[39;49m\u001b[33;43m%\u001b[39;49m\u001b[33;43mH:\u001b[39;49m\u001b[33;43m%\u001b[39;49m\u001b[33;43mM:\u001b[39;49m\u001b[33;43m%\u001b[39;49m\u001b[33;43mS\u001b[39;49m\u001b[33;43m'\u001b[39;49m\u001b[43m)\u001b[49m\n",
      "\u001b[36mFile \u001b[39m\u001b[32mc:\\Users\\Felli\\.code\\.venv\\Lib\\site-packages\\pandas\\core\\tools\\datetimes.py:1067\u001b[39m, in \u001b[36mto_datetime\u001b[39m\u001b[34m(arg, errors, dayfirst, yearfirst, utc, format, exact, unit, infer_datetime_format, origin, cache)\u001b[39m\n\u001b[32m   1065\u001b[39m         result = arg.map(cache_array)\n\u001b[32m   1066\u001b[39m     \u001b[38;5;28;01melse\u001b[39;00m:\n\u001b[32m-> \u001b[39m\u001b[32m1067\u001b[39m         values = \u001b[43mconvert_listlike\u001b[49m\u001b[43m(\u001b[49m\u001b[43marg\u001b[49m\u001b[43m.\u001b[49m\u001b[43m_values\u001b[49m\u001b[43m,\u001b[49m\u001b[43m \u001b[49m\u001b[38;5;28;43mformat\u001b[39;49m\u001b[43m)\u001b[49m\n\u001b[32m   1068\u001b[39m         result = arg._constructor(values, index=arg.index, name=arg.name)\n\u001b[32m   1069\u001b[39m \u001b[38;5;28;01melif\u001b[39;00m \u001b[38;5;28misinstance\u001b[39m(arg, (ABCDataFrame, abc.MutableMapping)):\n",
      "\u001b[36mFile \u001b[39m\u001b[32mc:\\Users\\Felli\\.code\\.venv\\Lib\\site-packages\\pandas\\core\\tools\\datetimes.py:433\u001b[39m, in \u001b[36m_convert_listlike_datetimes\u001b[39m\u001b[34m(arg, format, name, utc, unit, errors, dayfirst, yearfirst, exact)\u001b[39m\n\u001b[32m    431\u001b[39m \u001b[38;5;66;03m# `format` could be inferred, or user didn't ask for mixed-format parsing.\u001b[39;00m\n\u001b[32m    432\u001b[39m \u001b[38;5;28;01mif\u001b[39;00m \u001b[38;5;28mformat\u001b[39m \u001b[38;5;129;01mis\u001b[39;00m \u001b[38;5;129;01mnot\u001b[39;00m \u001b[38;5;28;01mNone\u001b[39;00m \u001b[38;5;129;01mand\u001b[39;00m \u001b[38;5;28mformat\u001b[39m != \u001b[33m\"\u001b[39m\u001b[33mmixed\u001b[39m\u001b[33m\"\u001b[39m:\n\u001b[32m--> \u001b[39m\u001b[32m433\u001b[39m     \u001b[38;5;28;01mreturn\u001b[39;00m \u001b[43m_array_strptime_with_fallback\u001b[49m\u001b[43m(\u001b[49m\u001b[43marg\u001b[49m\u001b[43m,\u001b[49m\u001b[43m \u001b[49m\u001b[43mname\u001b[49m\u001b[43m,\u001b[49m\u001b[43m \u001b[49m\u001b[43mutc\u001b[49m\u001b[43m,\u001b[49m\u001b[43m \u001b[49m\u001b[38;5;28;43mformat\u001b[39;49m\u001b[43m,\u001b[49m\u001b[43m \u001b[49m\u001b[43mexact\u001b[49m\u001b[43m,\u001b[49m\u001b[43m \u001b[49m\u001b[43merrors\u001b[49m\u001b[43m)\u001b[49m\n\u001b[32m    435\u001b[39m result, tz_parsed = objects_to_datetime64(\n\u001b[32m    436\u001b[39m     arg,\n\u001b[32m    437\u001b[39m     dayfirst=dayfirst,\n\u001b[32m   (...)\u001b[39m\u001b[32m    441\u001b[39m     allow_object=\u001b[38;5;28;01mTrue\u001b[39;00m,\n\u001b[32m    442\u001b[39m )\n\u001b[32m    444\u001b[39m \u001b[38;5;28;01mif\u001b[39;00m tz_parsed \u001b[38;5;129;01mis\u001b[39;00m \u001b[38;5;129;01mnot\u001b[39;00m \u001b[38;5;28;01mNone\u001b[39;00m:\n\u001b[32m    445\u001b[39m     \u001b[38;5;66;03m# We can take a shortcut since the datetime64 numpy array\u001b[39;00m\n\u001b[32m    446\u001b[39m     \u001b[38;5;66;03m# is in UTC\u001b[39;00m\n",
      "\u001b[36mFile \u001b[39m\u001b[32mc:\\Users\\Felli\\.code\\.venv\\Lib\\site-packages\\pandas\\core\\tools\\datetimes.py:467\u001b[39m, in \u001b[36m_array_strptime_with_fallback\u001b[39m\u001b[34m(arg, name, utc, fmt, exact, errors)\u001b[39m\n\u001b[32m    456\u001b[39m \u001b[38;5;28;01mdef\u001b[39;00m\u001b[38;5;250m \u001b[39m\u001b[34m_array_strptime_with_fallback\u001b[39m(\n\u001b[32m    457\u001b[39m     arg,\n\u001b[32m    458\u001b[39m     name,\n\u001b[32m   (...)\u001b[39m\u001b[32m    462\u001b[39m     errors: \u001b[38;5;28mstr\u001b[39m,\n\u001b[32m    463\u001b[39m ) -> Index:\n\u001b[32m    464\u001b[39m \u001b[38;5;250m    \u001b[39m\u001b[33;03m\"\"\"\u001b[39;00m\n\u001b[32m    465\u001b[39m \u001b[33;03m    Call array_strptime, with fallback behavior depending on 'errors'.\u001b[39;00m\n\u001b[32m    466\u001b[39m \u001b[33;03m    \"\"\"\u001b[39;00m\n\u001b[32m--> \u001b[39m\u001b[32m467\u001b[39m     result, tz_out = \u001b[43marray_strptime\u001b[49m\u001b[43m(\u001b[49m\u001b[43marg\u001b[49m\u001b[43m,\u001b[49m\u001b[43m \u001b[49m\u001b[43mfmt\u001b[49m\u001b[43m,\u001b[49m\u001b[43m \u001b[49m\u001b[43mexact\u001b[49m\u001b[43m=\u001b[49m\u001b[43mexact\u001b[49m\u001b[43m,\u001b[49m\u001b[43m \u001b[49m\u001b[43merrors\u001b[49m\u001b[43m=\u001b[49m\u001b[43merrors\u001b[49m\u001b[43m,\u001b[49m\u001b[43m \u001b[49m\u001b[43mutc\u001b[49m\u001b[43m=\u001b[49m\u001b[43mutc\u001b[49m\u001b[43m)\u001b[49m\n\u001b[32m    468\u001b[39m     \u001b[38;5;28;01mif\u001b[39;00m tz_out \u001b[38;5;129;01mis\u001b[39;00m \u001b[38;5;129;01mnot\u001b[39;00m \u001b[38;5;28;01mNone\u001b[39;00m:\n\u001b[32m    469\u001b[39m         unit = np.datetime_data(result.dtype)[\u001b[32m0\u001b[39m]\n",
      "\u001b[36mFile \u001b[39m\u001b[32mstrptime.pyx:501\u001b[39m, in \u001b[36mpandas._libs.tslibs.strptime.array_strptime\u001b[39m\u001b[34m()\u001b[39m\n",
      "\u001b[36mFile \u001b[39m\u001b[32mstrptime.pyx:451\u001b[39m, in \u001b[36mpandas._libs.tslibs.strptime.array_strptime\u001b[39m\u001b[34m()\u001b[39m\n",
      "\u001b[36mFile \u001b[39m\u001b[32mstrptime.pyx:583\u001b[39m, in \u001b[36mpandas._libs.tslibs.strptime._parse_with_format\u001b[39m\u001b[34m()\u001b[39m\n",
      "\u001b[31mValueError\u001b[39m: time data \"2025-04-22 06:00\" doesn't match format \"%Y-%m-%d %H:%M:%S\", at position 0. You might want to try:\n    - passing `format` if your strings have a consistent format;\n    - passing `format='ISO8601'` if your strings are all ISO8601 but not necessarily in exactly the same format;\n    - passing `format='mixed'`, and the format will be inferred for each element individually. You might want to use `dayfirst` alongside this."
     ]
    }
   ],
   "source": [
    "import pandas as pd\n",
    "\n",
    "df = pd.read_csv('dataraw.csv')\n",
    "\n",
    "df['datetime'] = pd.to_datetime(df['data'] + ' ' + df['horario'], format='%Y-%m-%d %H:%M:%S')"
   ]
  },
  {
   "cell_type": "code",
   "execution_count": null,
   "id": "e7a02203-3bbc-4740-b640-ad316a17c3d3",
   "metadata": {},
   "outputs": [
    {
     "ename": "ValueError",
     "evalue": "time data \"2025-04-22 06:00\" doesn't match format \"%Y-%m-%d %H:%M:%S\", at position 0. You might want to try:\n    - passing `format` if your strings have a consistent format;\n    - passing `format='ISO8601'` if your strings are all ISO8601 but not necessarily in exactly the same format;\n    - passing `format='mixed'`, and the format will be inferred for each element individually. You might want to use `dayfirst` alongside this.",
     "output_type": "error",
     "traceback": [
      "\u001b[31m---------------------------------------------------------------------------\u001b[39m",
      "\u001b[31mValueError\u001b[39m                                Traceback (most recent call last)",
      "\u001b[36mCell\u001b[39m\u001b[36m \u001b[39m\u001b[32mIn[10]\u001b[39m\u001b[32m, line 5\u001b[39m\n\u001b[32m      1\u001b[39m \u001b[38;5;28;01mimport\u001b[39;00m\u001b[38;5;250m \u001b[39m\u001b[34;01mpandas\u001b[39;00m\u001b[38;5;250m \u001b[39m\u001b[38;5;28;01mas\u001b[39;00m\u001b[38;5;250m \u001b[39m\u001b[34;01mpd\u001b[39;00m\n\u001b[32m      3\u001b[39m df = pd.read_csv(\u001b[33m'\u001b[39m\u001b[33mdataraw.csv\u001b[39m\u001b[33m'\u001b[39m)\n\u001b[32m----> \u001b[39m\u001b[32m5\u001b[39m df[\u001b[33m'\u001b[39m\u001b[33mdatetime\u001b[39m\u001b[33m'\u001b[39m] = \u001b[43mpd\u001b[49m\u001b[43m.\u001b[49m\u001b[43mto_datetime\u001b[49m\u001b[43m(\u001b[49m\u001b[43mdf\u001b[49m\u001b[43m[\u001b[49m\u001b[33;43m'\u001b[39;49m\u001b[33;43mdata\u001b[39;49m\u001b[33;43m'\u001b[39;49m\u001b[43m]\u001b[49m\u001b[43m \u001b[49m\u001b[43m+\u001b[49m\u001b[43m \u001b[49m\u001b[33;43m'\u001b[39;49m\u001b[33;43m \u001b[39;49m\u001b[33;43m'\u001b[39;49m\u001b[43m \u001b[49m\u001b[43m+\u001b[49m\u001b[43m \u001b[49m\u001b[43mdf\u001b[49m\u001b[43m[\u001b[49m\u001b[33;43m'\u001b[39;49m\u001b[33;43mhorario\u001b[39;49m\u001b[33;43m'\u001b[39;49m\u001b[43m]\u001b[49m\u001b[43m,\u001b[49m\u001b[43m \u001b[49m\u001b[38;5;28;43mformat\u001b[39;49m\u001b[43m=\u001b[49m\u001b[33;43m'\u001b[39;49m\u001b[33;43m%\u001b[39;49m\u001b[33;43mY-\u001b[39;49m\u001b[33;43m%\u001b[39;49m\u001b[33;43mm-\u001b[39;49m\u001b[38;5;132;43;01m%d\u001b[39;49;00m\u001b[33;43m \u001b[39;49m\u001b[33;43m%\u001b[39;49m\u001b[33;43mH:\u001b[39;49m\u001b[33;43m%\u001b[39;49m\u001b[33;43mM:\u001b[39;49m\u001b[33;43m%\u001b[39;49m\u001b[33;43mS\u001b[39;49m\u001b[33;43m'\u001b[39;49m\u001b[43m)\u001b[49m\n",
      "\u001b[36mFile \u001b[39m\u001b[32mc:\\Users\\Felli\\.code\\.venv\\Lib\\site-packages\\pandas\\core\\tools\\datetimes.py:1067\u001b[39m, in \u001b[36mto_datetime\u001b[39m\u001b[34m(arg, errors, dayfirst, yearfirst, utc, format, exact, unit, infer_datetime_format, origin, cache)\u001b[39m\n\u001b[32m   1065\u001b[39m         result = arg.map(cache_array)\n\u001b[32m   1066\u001b[39m     \u001b[38;5;28;01melse\u001b[39;00m:\n\u001b[32m-> \u001b[39m\u001b[32m1067\u001b[39m         values = \u001b[43mconvert_listlike\u001b[49m\u001b[43m(\u001b[49m\u001b[43marg\u001b[49m\u001b[43m.\u001b[49m\u001b[43m_values\u001b[49m\u001b[43m,\u001b[49m\u001b[43m \u001b[49m\u001b[38;5;28;43mformat\u001b[39;49m\u001b[43m)\u001b[49m\n\u001b[32m   1068\u001b[39m         result = arg._constructor(values, index=arg.index, name=arg.name)\n\u001b[32m   1069\u001b[39m \u001b[38;5;28;01melif\u001b[39;00m \u001b[38;5;28misinstance\u001b[39m(arg, (ABCDataFrame, abc.MutableMapping)):\n",
      "\u001b[36mFile \u001b[39m\u001b[32mc:\\Users\\Felli\\.code\\.venv\\Lib\\site-packages\\pandas\\core\\tools\\datetimes.py:433\u001b[39m, in \u001b[36m_convert_listlike_datetimes\u001b[39m\u001b[34m(arg, format, name, utc, unit, errors, dayfirst, yearfirst, exact)\u001b[39m\n\u001b[32m    431\u001b[39m \u001b[38;5;66;03m# `format` could be inferred, or user didn't ask for mixed-format parsing.\u001b[39;00m\n\u001b[32m    432\u001b[39m \u001b[38;5;28;01mif\u001b[39;00m \u001b[38;5;28mformat\u001b[39m \u001b[38;5;129;01mis\u001b[39;00m \u001b[38;5;129;01mnot\u001b[39;00m \u001b[38;5;28;01mNone\u001b[39;00m \u001b[38;5;129;01mand\u001b[39;00m \u001b[38;5;28mformat\u001b[39m != \u001b[33m\"\u001b[39m\u001b[33mmixed\u001b[39m\u001b[33m\"\u001b[39m:\n\u001b[32m--> \u001b[39m\u001b[32m433\u001b[39m     \u001b[38;5;28;01mreturn\u001b[39;00m \u001b[43m_array_strptime_with_fallback\u001b[49m\u001b[43m(\u001b[49m\u001b[43marg\u001b[49m\u001b[43m,\u001b[49m\u001b[43m \u001b[49m\u001b[43mname\u001b[49m\u001b[43m,\u001b[49m\u001b[43m \u001b[49m\u001b[43mutc\u001b[49m\u001b[43m,\u001b[49m\u001b[43m \u001b[49m\u001b[38;5;28;43mformat\u001b[39;49m\u001b[43m,\u001b[49m\u001b[43m \u001b[49m\u001b[43mexact\u001b[49m\u001b[43m,\u001b[49m\u001b[43m \u001b[49m\u001b[43merrors\u001b[49m\u001b[43m)\u001b[49m\n\u001b[32m    435\u001b[39m result, tz_parsed = objects_to_datetime64(\n\u001b[32m    436\u001b[39m     arg,\n\u001b[32m    437\u001b[39m     dayfirst=dayfirst,\n\u001b[32m   (...)\u001b[39m\u001b[32m    441\u001b[39m     allow_object=\u001b[38;5;28;01mTrue\u001b[39;00m,\n\u001b[32m    442\u001b[39m )\n\u001b[32m    444\u001b[39m \u001b[38;5;28;01mif\u001b[39;00m tz_parsed \u001b[38;5;129;01mis\u001b[39;00m \u001b[38;5;129;01mnot\u001b[39;00m \u001b[38;5;28;01mNone\u001b[39;00m:\n\u001b[32m    445\u001b[39m     \u001b[38;5;66;03m# We can take a shortcut since the datetime64 numpy array\u001b[39;00m\n\u001b[32m    446\u001b[39m     \u001b[38;5;66;03m# is in UTC\u001b[39;00m\n",
      "\u001b[36mFile \u001b[39m\u001b[32mc:\\Users\\Felli\\.code\\.venv\\Lib\\site-packages\\pandas\\core\\tools\\datetimes.py:467\u001b[39m, in \u001b[36m_array_strptime_with_fallback\u001b[39m\u001b[34m(arg, name, utc, fmt, exact, errors)\u001b[39m\n\u001b[32m    456\u001b[39m \u001b[38;5;28;01mdef\u001b[39;00m\u001b[38;5;250m \u001b[39m\u001b[34m_array_strptime_with_fallback\u001b[39m(\n\u001b[32m    457\u001b[39m     arg,\n\u001b[32m    458\u001b[39m     name,\n\u001b[32m   (...)\u001b[39m\u001b[32m    462\u001b[39m     errors: \u001b[38;5;28mstr\u001b[39m,\n\u001b[32m    463\u001b[39m ) -> Index:\n\u001b[32m    464\u001b[39m \u001b[38;5;250m    \u001b[39m\u001b[33;03m\"\"\"\u001b[39;00m\n\u001b[32m    465\u001b[39m \u001b[33;03m    Call array_strptime, with fallback behavior depending on 'errors'.\u001b[39;00m\n\u001b[32m    466\u001b[39m \u001b[33;03m    \"\"\"\u001b[39;00m\n\u001b[32m--> \u001b[39m\u001b[32m467\u001b[39m     result, tz_out = \u001b[43marray_strptime\u001b[49m\u001b[43m(\u001b[49m\u001b[43marg\u001b[49m\u001b[43m,\u001b[49m\u001b[43m \u001b[49m\u001b[43mfmt\u001b[49m\u001b[43m,\u001b[49m\u001b[43m \u001b[49m\u001b[43mexact\u001b[49m\u001b[43m=\u001b[49m\u001b[43mexact\u001b[49m\u001b[43m,\u001b[49m\u001b[43m \u001b[49m\u001b[43merrors\u001b[49m\u001b[43m=\u001b[49m\u001b[43merrors\u001b[49m\u001b[43m,\u001b[49m\u001b[43m \u001b[49m\u001b[43mutc\u001b[49m\u001b[43m=\u001b[49m\u001b[43mutc\u001b[49m\u001b[43m)\u001b[49m\n\u001b[32m    468\u001b[39m     \u001b[38;5;28;01mif\u001b[39;00m tz_out \u001b[38;5;129;01mis\u001b[39;00m \u001b[38;5;129;01mnot\u001b[39;00m \u001b[38;5;28;01mNone\u001b[39;00m:\n\u001b[32m    469\u001b[39m         unit = np.datetime_data(result.dtype)[\u001b[32m0\u001b[39m]\n",
      "\u001b[36mFile \u001b[39m\u001b[32mstrptime.pyx:501\u001b[39m, in \u001b[36mpandas._libs.tslibs.strptime.array_strptime\u001b[39m\u001b[34m()\u001b[39m\n",
      "\u001b[36mFile \u001b[39m\u001b[32mstrptime.pyx:451\u001b[39m, in \u001b[36mpandas._libs.tslibs.strptime.array_strptime\u001b[39m\u001b[34m()\u001b[39m\n",
      "\u001b[36mFile \u001b[39m\u001b[32mstrptime.pyx:583\u001b[39m, in \u001b[36mpandas._libs.tslibs.strptime._parse_with_format\u001b[39m\u001b[34m()\u001b[39m\n",
      "\u001b[31mValueError\u001b[39m: time data \"2025-04-22 06:00\" doesn't match format \"%Y-%m-%d %H:%M:%S\", at position 0. You might want to try:\n    - passing `format` if your strings have a consistent format;\n    - passing `format='ISO8601'` if your strings are all ISO8601 but not necessarily in exactly the same format;\n    - passing `format='mixed'`, and the format will be inferred for each element individually. You might want to use `dayfirst` alongside this."
     ]
    }
   ],
   "source": [
    "import pandas as pd\n",
    "\n",
    "df = pd.read_csv('dataraw.csv')\n",
    "\n",
    "df['datetime'] = pd.to_datetime(df['data'] + ' ' + df['horario'], format='%Y-%m-%d %H:%M:%S')"
   ]
  },
  {
   "cell_type": "code",
   "execution_count": null,
   "metadata": {},
   "outputs": [],
   "source": [
    "df['datetime'] = pd.to_datetime(df['data'] + ' ' + df['horario'], errors='coerce')\n",
    "\n"
   ]
  },
  {
   "cell_type": "code",
   "execution_count": null,
   "metadata": {},
   "outputs": [
    {
     "data": {
      "application/vnd.microsoft.datawrangler.viewer.v0+json": {
       "columns": [
        {
         "name": "index",
         "rawType": "int64",
         "type": "integer"
        },
        {
         "name": "Unnamed: 0",
         "rawType": "int64",
         "type": "integer"
        },
        {
         "name": "titulo",
         "rawType": "object",
         "type": "string"
        },
        {
         "name": "data",
         "rawType": "object",
         "type": "string"
        },
        {
         "name": "horario",
         "rawType": "object",
         "type": "string"
        },
        {
         "name": "genero_ano",
         "rawType": "object",
         "type": "string"
        },
        {
         "name": "sinopse",
         "rawType": "object",
         "type": "string"
        },
        {
         "name": "datetime",
         "rawType": "datetime64[ns]",
         "type": "datetime"
        }
       ],
       "conversionMethod": "pd.DataFrame",
       "ref": "4bad9aee-87c0-4a62-8f32-4614ac156ae5",
       "rows": [
        [
         "0",
         "0",
         "Fantasma Neon",
         "2025-04-22",
         "06:00",
         "Musical / 2021",
         "João é um entregador de aplicativo que sonha em ter uma moto para conhecer o Brasil.",
         "2025-04-22 06:00:00"
        ],
        [
         "1",
         "1",
         "Guard Dog & Bill Plympton no Brasil",
         "2025-04-22",
         "06:23",
         "Children",
         "Um ansioso e neurótico cãozinho se desgarra de seu dono Plympton e parte rumo a pequenas aventuras ao chegar no Brasil.",
         "2025-04-22 06:23:00"
        ],
        [
         "2",
         "2",
         "Cantoras Portuguesas",
         "2025-04-22",
         "06:30",
         "Entertainment",
         "Forte e autêntica, Simone de Oliveira comenta as vitórias da mulher portuguesa e do seu trabalho com Amália Rodrigues. Ela revela também não trocar a voz de cantora pela antiga voz de locutora que já teve.",
         "2025-04-22 06:30:00"
        ],
        [
         "3",
         "3",
         "Portugal... Minha Saudade",
         "2025-04-22",
         "06:45",
         "Comedy / 1974 / 5.5",
         "Os gêmeos Sabino e Agostinho vivem separados um do outro. Sabino mora com o filho casado no Brasil e leva uma vida muito humilde, vendendo frutas nas ruas de São Paulo. Agostinho mora em Lisboa, Portugal. Por causa dos muitos conflitos com a família de seu filho, Sabino é colocado em um asilo. Um dia, seu irmão Agostinho chega, inesperadamente, de Lisboa e fica abismado com o jeito que tratam seu irmão e o leva para Portugal.",
         "2025-04-22 06:45:00"
        ],
        [
         "4",
         "4",
         "Guard Dog & Bill Plympton no Brasil",
         "2025-04-22",
         "08:30",
         "Children",
         "Um ansioso e neurótico cãozinho se desgarra de seu dono Plympton e parte rumo a pequenas aventuras ao chegar no Brasil.",
         "2025-04-22 08:30:00"
        ],
        [
         "5",
         "5",
         "Cantoras Portuguesas",
         "2025-04-22",
         "08:35",
         "Entertainment",
         "Forte e autêntica, Simone de Oliveira comenta as vitórias da mulher portuguesa e do seu trabalho com Amália Rodrigues. Ela revela também não trocar a voz de cantora pela antiga voz de locutora que já teve.",
         "2025-04-22 08:35:00"
        ],
        [
         "6",
         "6",
         "Guard Dog & Bill Plympton no Brasil",
         "2025-04-22",
         "08:50",
         "Children",
         "Um ansioso e neurótico cãozinho se desgarra de seu dono Plympton e parte rumo a pequenas aventuras ao chegar no Brasil.",
         "2025-04-22 08:50:00"
        ],
        [
         "7",
         "7",
         "Caramuru - A Invenção do Brasil",
         "2025-04-22",
         "08:55",
         "Comedy / 2001 / 6.6",
         "Portugal, século 16. Após ser enganado pela sedutora Isabelle, o jovem Diogo é deportado para o Brasil, mas sua caravela naufraga. Por milagre, ele é salvo pelo cacique Itaparica. Em terras brasileiras, ele passa a ser chamado de Caramuru e vive um harmônico triângulo amoroso com as duas filhas do cacique, Moema e Paraguaçu.",
         "2025-04-22 08:55:00"
        ],
        [
         "8",
         "8",
         "Cantoras Portuguesas",
         "2025-04-22",
         "10:25",
         "Entertainment",
         "Forte e autêntica, Simone de Oliveira comenta as vitórias da mulher portuguesa e do seu trabalho com Amália Rodrigues. Ela revela também não trocar a voz de cantora pela antiga voz de locutora que já teve.",
         "2025-04-22 10:25:00"
        ],
        [
         "9",
         "9",
         "Carlota Joaquina, Princesa do Brazil",
         "2025-04-22",
         "10:45",
         "Comedy drama / 1995",
         "Uma história satírica do Brasil no século 18, narrando as aventuras de uma mulher sensual que manca e tem um bigode.",
         "2025-04-22 10:45:00"
        ],
        [
         "10",
         "10",
         "Guard Dog & Bill Plympton no Brasil",
         "2025-04-22",
         "12:25",
         "Children",
         "Um ansioso e neurótico cãozinho se desgarra de seu dono Plympton e parte rumo a pequenas aventuras ao chegar no Brasil.",
         "2025-04-22 12:25:00"
        ],
        [
         "11",
         "11",
         "Bá",
         "2025-04-22",
         "12:30",
         "Drama / 2015",
         "O pequeno Bruno é obrigado a lidar com as mudanças que ocorrem em sua vida quando sua avo? e? trazida para morar em sua casa.",
         "2025-04-22 12:30:00"
        ],
        [
         "12",
         "12",
         "Cantoras Portuguesas",
         "2025-04-22",
         "12:45",
         "Entertainment",
         "Forte e autêntica, Simone de Oliveira comenta as vitórias da mulher portuguesa e do seu trabalho com Amália Rodrigues. Ela revela também não trocar a voz de cantora pela antiga voz de locutora que já teve.",
         "2025-04-22 12:45:00"
        ],
        [
         "13",
         "13",
         "Cinejornal",
         "2025-04-22",
         "13:00",
         "Art",
         "O cinema brasileiro em pauta com as novidades e os bastidores da produção nacional, entrevistas com atores e diretores e a cobertura completa de festivais importantes em todo o país.",
         "2025-04-22 13:00:00"
        ],
        [
         "14",
         "14",
         "Esquinas - Pílulas",
         "2025-04-22",
         "13:15",
         "Documentary",
         "Reportagens documentais inspiradas na seção homônima da Revista Piauí. Personagens e eventos peculiares são colhidos pelos quatro cantos do país com uma abordagem inovadora.",
         "2025-04-22 13:15:00"
        ],
        [
         "15",
         "15",
         "Cantoras Portuguesas",
         "2025-04-22",
         "13:30",
         "Entertainment",
         "Forte e autêntica, Simone de Oliveira comenta as vitórias da mulher portuguesa e do seu trabalho com Amália Rodrigues. Ela revela também não trocar a voz de cantora pela antiga voz de locutora que já teve.",
         "2025-04-22 13:30:00"
        ],
        [
         "16",
         "16",
         "Guard Dog & Bill Plympton no Brasil",
         "2025-04-22",
         "13:50",
         "Children",
         "Um ansioso e neurótico cãozinho se desgarra de seu dono Plympton e parte rumo a pequenas aventuras ao chegar no Brasil.",
         "2025-04-22 13:50:00"
        ],
        [
         "17",
         "17",
         "70 Anos de Edu Lobo",
         "2025-04-22",
         "14:00",
         "Music",
         "Em estúdio, Edu Lobo recebe seus amigos Joyce, Mauro Senise, Gilson Peranzeta, Carlos Malta e Roberta Sá para versões exclusivas de seu repertório.",
         "2025-04-22 14:00:00"
        ],
        [
         "18",
         "18",
         "70 Anos de Edu Lobo",
         "2025-04-22",
         "14:30",
         "Music",
         "Em estúdio, Edu Lobo recebe seus amigos Joyce, Mauro Senise, Gilson Peranzeta, Carlos Malta e Roberta Sá para versões exclusivas de seu repertório.",
         "2025-04-22 14:30:00"
        ],
        [
         "19",
         "19",
         "70 Anos de Edu Lobo",
         "2025-04-22",
         "14:55",
         "Music",
         "Em estúdio, Edu Lobo recebe seus amigos Joyce, Mauro Senise, Gilson Peranzeta, Carlos Malta e Roberta Sá para versões exclusivas de seu repertório.",
         "2025-04-22 14:55:00"
        ],
        [
         "20",
         "20",
         "70 Anos de Edu Lobo",
         "2025-04-22",
         "15:25",
         "Music",
         "Em estúdio, Edu Lobo recebe seus amigos Joyce, Mauro Senise, Gilson Peranzeta, Carlos Malta e Roberta Sá para versões exclusivas de seu repertório.",
         "2025-04-22 15:25:00"
        ],
        [
         "21",
         "21",
         "Cantoras Portuguesas",
         "2025-04-22",
         "15:50",
         "Entertainment",
         "Forte e autêntica, Simone de Oliveira comenta as vitórias da mulher portuguesa e do seu trabalho com Amália Rodrigues. Ela revela também não trocar a voz de cantora pela antiga voz de locutora que já teve.",
         "2025-04-22 15:50:00"
        ],
        [
         "22",
         "22",
         "Guard Dog & Bill Plympton no Brasil",
         "2025-04-22",
         "16:05",
         "Children",
         "Um ansioso e neurótico cãozinho se desgarra de seu dono Plympton e parte rumo a pequenas aventuras ao chegar no Brasil.",
         "2025-04-22 16:05:00"
        ],
        [
         "23",
         "23",
         "Remendo",
         "2025-04-22",
         "16:10",
         "Drama / 2023",
         "Zé é um homem negro de meia-idade que tem uma oficina de eletrodomésticos na periferia e está em busca de amor. Enquanto uma nova inquilina chega ao prédio de sua mãe, ele recorre a divindades para tentar resolver seus problemas amorosos e sua autoestima, enfrentando os traumas invisíveis do colonialismo para encontrar um novo tipo de liberdade.",
         "2025-04-22 16:10:00"
        ],
        [
         "24",
         "24",
         "Arte na Capa",
         "2025-04-22",
         "16:35",
         "Music",
         "Os bastidores da criação, histórias e curiosidades de capas de discos brasileiros clássicas.",
         "2025-04-22 16:35:00"
        ],
        [
         "25",
         "25",
         "Fado Tropical",
         "2025-04-22",
         "16:40",
         "Drama / 2019",
         "Após anos separados, os irmãos brasileiros Isabel e Antonio se reencontram na cidade de Lisboa. Agora, a dupla decide embarcar em uma viagem emocionante pelo país natal de seu pai, que faleceu recentemente.",
         "2025-04-22 16:40:00"
        ],
        [
         "26",
         "26",
         "Cantoras Portuguesas",
         "2025-04-22",
         "18:15",
         "Entertainment",
         "Forte e autêntica, Simone de Oliveira comenta as vitórias da mulher portuguesa e do seu trabalho com Amália Rodrigues. Ela revela também não trocar a voz de cantora pela antiga voz de locutora que já teve.",
         "2025-04-22 18:15:00"
        ],
        [
         "27",
         "27",
         "Você",
         "2025-04-22",
         "18:30",
         "Drama / 2024 / 5.4",
         "Por meio de uma conversa telefônica com a delegada, uma mãe revisita memórias sobre a convivência com o pai de sua filha enquanto elas discorrem sobre as ausências às quais ele foi condicionado.",
         "2025-04-22 18:30:00"
        ],
        [
         "28",
         "28",
         "Choque de Cultura",
         "2025-04-22",
         "18:45",
         "Temporada 6 Episódio 7 - Brasil Contra o Resto do Mundo",
         "Neste embate do século, o cinema brasileiro enfrenta a sétima arte do resto do mundo em clima de mata-mata, cachorro invadindo o campo e apedrejamento de ônibus.",
         "2025-04-22 18:45:00"
        ],
        [
         "29",
         "29",
         "Mito e Música - A Mensagem de Fernando Pessoa",
         "2025-04-22",
         "19:00",
         "Documentary / 2018",
         "O documentário aborda o projeto, que levou 30 anos para ser finalizado, sobre a gravação de 44 músicas criadas para cada poema de Mensagem, um dos livros mais emblemáticos de Fernando Pessoa.",
         "2025-04-22 19:00:00"
        ],
        [
         "30",
         "30",
         "Cantoras Portuguesas",
         "2025-04-22",
         "20:35",
         "Entertainment",
         "Forte e autêntica, Simone de Oliveira comenta as vitórias da mulher portuguesa e do seu trabalho com Amália Rodrigues. Ela revela também não trocar a voz de cantora pela antiga voz de locutora que já teve.",
         "2025-04-22 20:35:00"
        ],
        [
         "31",
         "31",
         "A Bela América",
         "2025-04-22",
         "20:50",
         "Comedy / 2023",
         "O cozinheiro Lucas entra na casa de América, estrela de televisão e candidata presidencial, para seduzi-la com refeições extraordinárias.",
         "2025-04-22 20:50:00"
        ],
        [
         "32",
         "32",
         "Cantoras Portuguesas",
         "2025-04-22",
         "22:35",
         "Entertainment",
         "Forte e autêntica, Simone de Oliveira comenta as vitórias da mulher portuguesa e do seu trabalho com Amália Rodrigues. Ela revela também não trocar a voz de cantora pela antiga voz de locutora que já teve.",
         "2025-04-22 22:35:00"
        ],
        [
         "33",
         "33",
         "Greice",
         "2025-04-22",
         "22:55",
         "Comedy drama / 2024",
         "Greice, uma jovem brasileira de 21 anos, estuda na Universidade de Belas Artes de Lisboa. Ela se envolve com o misterioso Afonso. E depois de uma festa de boas-vindas para os novos estudantes, o casal é acusado de um estranho acidente que ocorreu no evento. Greice precisa retornar a Fortaleza, sua cidade natal, para renovar a autorização de residência. Escondida em um hotel, enquanto evita que a mãe descubra os problemas em que se envolveu, Greice tenta encontrar um lugar de conforto no mundo.",
         "2025-04-22 22:55:00"
        ],
        [
         "34",
         "34",
         "Pornolândia",
         "2025-04-22",
         "00:45",
         "Adults only",
         "Márcia Dailyn fala sobre a sua trajetória até se tornar a primeira bailarina transexual do Theatro Municipal de São Paulo e destaca as dificuldades em ser uma artista no Brasil.",
         "2025-04-22 00:45:00"
        ],
        [
         "35",
         "35",
         "A Noite das Taras",
         "2025-04-22",
         "01:00",
         "Drama / 1980",
         "Três marinheiros tiram um dia de folga em São Paulo. Um deles tem que entregar uma carta a uma misteriosa mulher; o outro descobre que está sendo seguido por marginais e o terceiro conhece algumas moças prontas para uma maratona mortal de sexo.",
         "2025-04-22 01:00:00"
        ],
        [
         "36",
         "36",
         "502",
         "2025-04-22",
         "02:25",
         "Temporada 1 Episódio 27 - Lino",
         "Lino fala sobre o processo de exposição que está vivendo, a relação ruim com a irmã por conta de sua orientação sexual e o momento em que se afundou nas drogas após a morte dos pais.",
         "2025-04-22 02:25:00"
        ],
        [
         "37",
         "37",
         "Exorcismo Negro",
         "2025-04-22",
         "02:40",
         "Horror / 1974",
         "O cineasta José Mojica Marins decide passar o fim de semana na casa de campo de seu amigo Álvaro para escrever um roteiro. Após sua chegada, a família do amigo começa a agir de maneira estranha e violenta como se estivesse possuída pelo demônio. Para exorcizar o mal, é necessário realizar um ritual em uma câmara de tortura. Mojica entra em um confronto violento e inusitado com o seu próprio personagem, Zé do Caixão.",
         "2025-04-22 02:40:00"
        ],
        [
         "38",
         "38",
         "Sobrepostas - Corpo e Desejo",
         "2025-04-22",
         "04:15",
         "Temporada 2 Episódio 7 - Geni Núñez",
         "A ativista indígena Geni Núñez fala de como a evangelização afetou a sua vida, destaca a busca por relações potáveis e comenta que alguns desvios foram muito saudáveis para o seu crescimento.",
         "2025-04-22 04:15:00"
        ],
        [
         "39",
         "39",
         "Vizinhos",
         "2025-04-22",
         "04:30",
         "Temporada 1 Episódio 9 - Fronteira",
         "O sagrado churrasco em família de Rogério é interrompido por um vizinho folgado e sua música alta.",
         "2025-04-22 04:30:00"
        ],
        [
         "40",
         "40",
         "Rota de Fuga",
         "2025-04-22",
         "05:00",
         "Thriller / 2016",
         "Manuela denuncia o marido para a Polícia Federal e entra no programa de proteção a testemunhas. Feito isso, ela abandona tudo e tenta fugir pra Europa antes que ele seja solto.",
         "2025-04-22 05:00:00"
        ],
        [
         "41",
         "41",
         "Cinejornal",
         "2025-04-23",
         "06:00",
         "Art",
         "O cinema brasileiro em pauta com as novidades e os bastidores da produção nacional, entrevistas com atores e diretores e a cobertura completa de festivais importantes em todo o país.",
         "2025-04-23 06:00:00"
        ],
        [
         "42",
         "42",
         "Esquinas - Pílulas",
         "2025-04-23",
         "06:15",
         "Documentary",
         "Reportagens documentais inspiradas na seção homônima da Revista Piauí. Personagens e eventos peculiares são colhidos pelos quatro cantos do país com uma abordagem inovadora.",
         "2025-04-23 06:15:00"
        ],
        [
         "43",
         "43",
         "4 Bilhões de Infinitos",
         "2025-04-23",
         "06:30",
         "Drama / 2020",
         "Após a morte do pai, uma família vive com a energia de casa cortada. Enquanto a mãe trabalha, seus filhos ficam em casa e conversam sobre ter esperança.",
         "2025-04-23 06:30:00"
        ],
        [
         "44",
         "44",
         "Ainda Restarão Robôs nas Ruas do Interior Profundo",
         "2025-04-23",
         "06:44",
         "Drama / 2022",
         "Na periferia do interior profundo brasileiro, Luquinha tenta recuperar sua égua enquanto convive com o crime e o barulho ensurdecedor de uma cidade conservadora.",
         "2025-04-23 06:44:00"
        ],
        [
         "45",
         "45",
         "Guard Dog & Bill Plympton no Brasil",
         "2025-04-23",
         "07:00",
         "Children",
         "Um ansioso e neurótico cãozinho se desgarra de seu dono Plympton e parte rumo a pequenas aventuras ao chegar no Brasil.",
         "2025-04-23 07:00:00"
        ],
        [
         "46",
         "46",
         "Vinicius",
         "2025-04-23",
         "07:05",
         "Documentary / 2005 / 7.9",
         "Reconstituição da vida e trajetória artística do músico, poeta e diplomata Vinicius de Moraes, com depoimentos de amigos, familiares e colegas, imagens raras de arquivo, inserções de shows variados e trechos de um pocket show em sua homenagem.",
         "2025-04-23 07:05:00"
        ],
        [
         "47",
         "47",
         "Ademã - A Vida e as Notas de Ibrahim Sued",
         "2025-04-23",
         "09:10",
         "Documentary / 2022",
         "Conheça a trajetória de Ibrahim Sued, jornalista que revolucionou a imprensa brasileira durante os quase 50 anos de carreira, por meio de entrevistas, fotos e filmes do arquivo pessoal de sua filha, Isabel Sued Perrin.",
         "2025-04-23 09:10:00"
        ],
        [
         "48",
         "48",
         "Guard Dog & Bill Plympton no Brasil",
         "2025-04-23",
         "10:55",
         "Children",
         "Um ansioso e neurótico cãozinho se desgarra de seu dono Plympton e parte rumo a pequenas aventuras ao chegar no Brasil.",
         "2025-04-23 10:55:00"
        ],
        [
         "49",
         "49",
         "Cristais de Sangue",
         "2025-04-23",
         "11:00",
         "Drama / 1975",
         "Rui chega em uma cidadezinha procurando o pai. Antes disso, ele se envolve com uma moça, que tem problemas na família. O padrasto da moça é o chefe de uma quadrilha e não mede esforços para que Rui não encontre seu pai.",
         "2025-04-23 11:00:00"
        ]
       ],
       "shape": {
        "columns": 7,
        "rows": 187
       }
      },
      "text/html": [
       "<div>\n",
       "<style scoped>\n",
       "    .dataframe tbody tr th:only-of-type {\n",
       "        vertical-align: middle;\n",
       "    }\n",
       "\n",
       "    .dataframe tbody tr th {\n",
       "        vertical-align: top;\n",
       "    }\n",
       "\n",
       "    .dataframe thead th {\n",
       "        text-align: right;\n",
       "    }\n",
       "</style>\n",
       "<table border=\"1\" class=\"dataframe\">\n",
       "  <thead>\n",
       "    <tr style=\"text-align: right;\">\n",
       "      <th></th>\n",
       "      <th>Unnamed: 0</th>\n",
       "      <th>titulo</th>\n",
       "      <th>data</th>\n",
       "      <th>horario</th>\n",
       "      <th>genero_ano</th>\n",
       "      <th>sinopse</th>\n",
       "      <th>datetime</th>\n",
       "    </tr>\n",
       "  </thead>\n",
       "  <tbody>\n",
       "    <tr>\n",
       "      <th>0</th>\n",
       "      <td>0</td>\n",
       "      <td>Fantasma Neon</td>\n",
       "      <td>2025-04-22</td>\n",
       "      <td>06:00</td>\n",
       "      <td>Musical / 2021</td>\n",
       "      <td>João é um entregador de aplicativo que sonha e...</td>\n",
       "      <td>2025-04-22 06:00:00</td>\n",
       "    </tr>\n",
       "    <tr>\n",
       "      <th>1</th>\n",
       "      <td>1</td>\n",
       "      <td>Guard Dog &amp; Bill Plympton no Brasil</td>\n",
       "      <td>2025-04-22</td>\n",
       "      <td>06:23</td>\n",
       "      <td>Children</td>\n",
       "      <td>Um ansioso e neurótico cãozinho se desgarra de...</td>\n",
       "      <td>2025-04-22 06:23:00</td>\n",
       "    </tr>\n",
       "    <tr>\n",
       "      <th>2</th>\n",
       "      <td>2</td>\n",
       "      <td>Cantoras Portuguesas</td>\n",
       "      <td>2025-04-22</td>\n",
       "      <td>06:30</td>\n",
       "      <td>Entertainment</td>\n",
       "      <td>Forte e autêntica, Simone de Oliveira comenta ...</td>\n",
       "      <td>2025-04-22 06:30:00</td>\n",
       "    </tr>\n",
       "    <tr>\n",
       "      <th>3</th>\n",
       "      <td>3</td>\n",
       "      <td>Portugal... Minha Saudade</td>\n",
       "      <td>2025-04-22</td>\n",
       "      <td>06:45</td>\n",
       "      <td>Comedy / 1974 / 5.5</td>\n",
       "      <td>Os gêmeos Sabino e Agostinho vivem separados u...</td>\n",
       "      <td>2025-04-22 06:45:00</td>\n",
       "    </tr>\n",
       "    <tr>\n",
       "      <th>4</th>\n",
       "      <td>4</td>\n",
       "      <td>Guard Dog &amp; Bill Plympton no Brasil</td>\n",
       "      <td>2025-04-22</td>\n",
       "      <td>08:30</td>\n",
       "      <td>Children</td>\n",
       "      <td>Um ansioso e neurótico cãozinho se desgarra de...</td>\n",
       "      <td>2025-04-22 08:30:00</td>\n",
       "    </tr>\n",
       "    <tr>\n",
       "      <th>...</th>\n",
       "      <td>...</td>\n",
       "      <td>...</td>\n",
       "      <td>...</td>\n",
       "      <td>...</td>\n",
       "      <td>...</td>\n",
       "      <td>...</td>\n",
       "      <td>...</td>\n",
       "    </tr>\n",
       "    <tr>\n",
       "      <th>182</th>\n",
       "      <td>182</td>\n",
       "      <td>Guard Dog &amp; Bill Plympton no Brasil</td>\n",
       "      <td>2025-04-27</td>\n",
       "      <td>03:55</td>\n",
       "      <td>Children</td>\n",
       "      <td>Um ansioso e neurótico cãozinho se desgarra de...</td>\n",
       "      <td>2025-04-27 03:55:00</td>\n",
       "    </tr>\n",
       "    <tr>\n",
       "      <th>183</th>\n",
       "      <td>183</td>\n",
       "      <td>Vizinhos</td>\n",
       "      <td>2025-04-27</td>\n",
       "      <td>04:00</td>\n",
       "      <td>Temporada 1 Episódio 10 - Os Outros</td>\n",
       "      <td>A chegada de uma família de hippies em um cond...</td>\n",
       "      <td>2025-04-27 04:00:00</td>\n",
       "    </tr>\n",
       "    <tr>\n",
       "      <th>184</th>\n",
       "      <td>184</td>\n",
       "      <td>Bonde</td>\n",
       "      <td>2025-04-27</td>\n",
       "      <td>04:30</td>\n",
       "      <td>Drama / 2019</td>\n",
       "      <td>Três jovens negros da favela de Heliópolis sae...</td>\n",
       "      <td>2025-04-27 04:30:00</td>\n",
       "    </tr>\n",
       "    <tr>\n",
       "      <th>185</th>\n",
       "      <td>185</td>\n",
       "      <td>Os Mutantes</td>\n",
       "      <td>2025-04-27</td>\n",
       "      <td>04:49</td>\n",
       "      <td>Drama / 1970</td>\n",
       "      <td>Uma brincadeira mutante improvisada por Arnald...</td>\n",
       "      <td>2025-04-27 04:49:00</td>\n",
       "    </tr>\n",
       "    <tr>\n",
       "      <th>186</th>\n",
       "      <td>186</td>\n",
       "      <td>Jards</td>\n",
       "      <td>2025-04-27</td>\n",
       "      <td>05:00</td>\n",
       "      <td>Documentary / 2013</td>\n",
       "      <td>A vida e a obra do cantor, músico e ator Jards...</td>\n",
       "      <td>2025-04-27 05:00:00</td>\n",
       "    </tr>\n",
       "  </tbody>\n",
       "</table>\n",
       "<p>187 rows × 7 columns</p>\n",
       "</div>"
      ],
      "text/plain": [
       "     Unnamed: 0                               titulo        data horario  \\\n",
       "0             0                        Fantasma Neon  2025-04-22   06:00   \n",
       "1             1  Guard Dog & Bill Plympton no Brasil  2025-04-22   06:23   \n",
       "2             2                 Cantoras Portuguesas  2025-04-22   06:30   \n",
       "3             3            Portugal... Minha Saudade  2025-04-22   06:45   \n",
       "4             4  Guard Dog & Bill Plympton no Brasil  2025-04-22   08:30   \n",
       "..          ...                                  ...         ...     ...   \n",
       "182         182  Guard Dog & Bill Plympton no Brasil  2025-04-27   03:55   \n",
       "183         183                             Vizinhos  2025-04-27   04:00   \n",
       "184         184                                Bonde  2025-04-27   04:30   \n",
       "185         185                          Os Mutantes  2025-04-27   04:49   \n",
       "186         186                                Jards  2025-04-27   05:00   \n",
       "\n",
       "                              genero_ano  \\\n",
       "0                         Musical / 2021   \n",
       "1                               Children   \n",
       "2                          Entertainment   \n",
       "3                    Comedy / 1974 / 5.5   \n",
       "4                               Children   \n",
       "..                                   ...   \n",
       "182                             Children   \n",
       "183  Temporada 1 Episódio 10 - Os Outros   \n",
       "184                         Drama / 2019   \n",
       "185                         Drama / 1970   \n",
       "186                   Documentary / 2013   \n",
       "\n",
       "                                               sinopse            datetime  \n",
       "0    João é um entregador de aplicativo que sonha e... 2025-04-22 06:00:00  \n",
       "1    Um ansioso e neurótico cãozinho se desgarra de... 2025-04-22 06:23:00  \n",
       "2    Forte e autêntica, Simone de Oliveira comenta ... 2025-04-22 06:30:00  \n",
       "3    Os gêmeos Sabino e Agostinho vivem separados u... 2025-04-22 06:45:00  \n",
       "4    Um ansioso e neurótico cãozinho se desgarra de... 2025-04-22 08:30:00  \n",
       "..                                                 ...                 ...  \n",
       "182  Um ansioso e neurótico cãozinho se desgarra de... 2025-04-27 03:55:00  \n",
       "183  A chegada de uma família de hippies em um cond... 2025-04-27 04:00:00  \n",
       "184  Três jovens negros da favela de Heliópolis sae... 2025-04-27 04:30:00  \n",
       "185  Uma brincadeira mutante improvisada por Arnald... 2025-04-27 04:49:00  \n",
       "186  A vida e a obra do cantor, músico e ator Jards... 2025-04-27 05:00:00  \n",
       "\n",
       "[187 rows x 7 columns]"
      ]
     },
     "execution_count": 12,
     "metadata": {},
     "output_type": "execute_result"
    }
   ],
   "source": [
    "df"
   ]
  },
  {
   "cell_type": "code",
   "execution_count": null,
   "metadata": {},
   "outputs": [
    {
     "data": {
      "application/vnd.microsoft.datawrangler.viewer.v0+json": {
       "columns": [
        {
         "name": "index",
         "rawType": "int64",
         "type": "integer"
        },
        {
         "name": "titulo",
         "rawType": "object",
         "type": "string"
        },
        {
         "name": "datetime",
         "rawType": "datetime64[ns]",
         "type": "datetime"
        },
        {
         "name": "genero_ano",
         "rawType": "object",
         "type": "string"
        },
        {
         "name": "sinopse",
         "rawType": "object",
         "type": "string"
        }
       ],
       "conversionMethod": "pd.DataFrame",
       "ref": "28b0d8be-4202-4e90-9214-157272cc7e51",
       "rows": [
        [
         "0",
         "Fantasma Neon",
         "2025-04-22 06:00:00",
         "Musical / 2021",
         "João é um entregador de aplicativo que sonha em ter uma moto para conhecer o Brasil."
        ],
        [
         "1",
         "Guard Dog & Bill Plympton no Brasil",
         "2025-04-22 06:23:00",
         "Children",
         "Um ansioso e neurótico cãozinho se desgarra de seu dono Plympton e parte rumo a pequenas aventuras ao chegar no Brasil."
        ],
        [
         "2",
         "Cantoras Portuguesas",
         "2025-04-22 06:30:00",
         "Entertainment",
         "Forte e autêntica, Simone de Oliveira comenta as vitórias da mulher portuguesa e do seu trabalho com Amália Rodrigues. Ela revela também não trocar a voz de cantora pela antiga voz de locutora que já teve."
        ],
        [
         "3",
         "Portugal... Minha Saudade",
         "2025-04-22 06:45:00",
         "Comedy / 1974 / 5.5",
         "Os gêmeos Sabino e Agostinho vivem separados um do outro. Sabino mora com o filho casado no Brasil e leva uma vida muito humilde, vendendo frutas nas ruas de São Paulo. Agostinho mora em Lisboa, Portugal. Por causa dos muitos conflitos com a família de seu filho, Sabino é colocado em um asilo. Um dia, seu irmão Agostinho chega, inesperadamente, de Lisboa e fica abismado com o jeito que tratam seu irmão e o leva para Portugal."
        ],
        [
         "4",
         "Guard Dog & Bill Plympton no Brasil",
         "2025-04-22 08:30:00",
         "Children",
         "Um ansioso e neurótico cãozinho se desgarra de seu dono Plympton e parte rumo a pequenas aventuras ao chegar no Brasil."
        ],
        [
         "5",
         "Cantoras Portuguesas",
         "2025-04-22 08:35:00",
         "Entertainment",
         "Forte e autêntica, Simone de Oliveira comenta as vitórias da mulher portuguesa e do seu trabalho com Amália Rodrigues. Ela revela também não trocar a voz de cantora pela antiga voz de locutora que já teve."
        ],
        [
         "6",
         "Guard Dog & Bill Plympton no Brasil",
         "2025-04-22 08:50:00",
         "Children",
         "Um ansioso e neurótico cãozinho se desgarra de seu dono Plympton e parte rumo a pequenas aventuras ao chegar no Brasil."
        ],
        [
         "7",
         "Caramuru - A Invenção do Brasil",
         "2025-04-22 08:55:00",
         "Comedy / 2001 / 6.6",
         "Portugal, século 16. Após ser enganado pela sedutora Isabelle, o jovem Diogo é deportado para o Brasil, mas sua caravela naufraga. Por milagre, ele é salvo pelo cacique Itaparica. Em terras brasileiras, ele passa a ser chamado de Caramuru e vive um harmônico triângulo amoroso com as duas filhas do cacique, Moema e Paraguaçu."
        ],
        [
         "8",
         "Cantoras Portuguesas",
         "2025-04-22 10:25:00",
         "Entertainment",
         "Forte e autêntica, Simone de Oliveira comenta as vitórias da mulher portuguesa e do seu trabalho com Amália Rodrigues. Ela revela também não trocar a voz de cantora pela antiga voz de locutora que já teve."
        ],
        [
         "9",
         "Carlota Joaquina, Princesa do Brazil",
         "2025-04-22 10:45:00",
         "Comedy drama / 1995",
         "Uma história satírica do Brasil no século 18, narrando as aventuras de uma mulher sensual que manca e tem um bigode."
        ],
        [
         "10",
         "Guard Dog & Bill Plympton no Brasil",
         "2025-04-22 12:25:00",
         "Children",
         "Um ansioso e neurótico cãozinho se desgarra de seu dono Plympton e parte rumo a pequenas aventuras ao chegar no Brasil."
        ],
        [
         "11",
         "Bá",
         "2025-04-22 12:30:00",
         "Drama / 2015",
         "O pequeno Bruno é obrigado a lidar com as mudanças que ocorrem em sua vida quando sua avo? e? trazida para morar em sua casa."
        ],
        [
         "12",
         "Cantoras Portuguesas",
         "2025-04-22 12:45:00",
         "Entertainment",
         "Forte e autêntica, Simone de Oliveira comenta as vitórias da mulher portuguesa e do seu trabalho com Amália Rodrigues. Ela revela também não trocar a voz de cantora pela antiga voz de locutora que já teve."
        ],
        [
         "13",
         "Cinejornal",
         "2025-04-22 13:00:00",
         "Art",
         "O cinema brasileiro em pauta com as novidades e os bastidores da produção nacional, entrevistas com atores e diretores e a cobertura completa de festivais importantes em todo o país."
        ],
        [
         "14",
         "Esquinas - Pílulas",
         "2025-04-22 13:15:00",
         "Documentary",
         "Reportagens documentais inspiradas na seção homônima da Revista Piauí. Personagens e eventos peculiares são colhidos pelos quatro cantos do país com uma abordagem inovadora."
        ],
        [
         "15",
         "Cantoras Portuguesas",
         "2025-04-22 13:30:00",
         "Entertainment",
         "Forte e autêntica, Simone de Oliveira comenta as vitórias da mulher portuguesa e do seu trabalho com Amália Rodrigues. Ela revela também não trocar a voz de cantora pela antiga voz de locutora que já teve."
        ],
        [
         "16",
         "Guard Dog & Bill Plympton no Brasil",
         "2025-04-22 13:50:00",
         "Children",
         "Um ansioso e neurótico cãozinho se desgarra de seu dono Plympton e parte rumo a pequenas aventuras ao chegar no Brasil."
        ],
        [
         "17",
         "70 Anos de Edu Lobo",
         "2025-04-22 14:00:00",
         "Music",
         "Em estúdio, Edu Lobo recebe seus amigos Joyce, Mauro Senise, Gilson Peranzeta, Carlos Malta e Roberta Sá para versões exclusivas de seu repertório."
        ],
        [
         "18",
         "70 Anos de Edu Lobo",
         "2025-04-22 14:30:00",
         "Music",
         "Em estúdio, Edu Lobo recebe seus amigos Joyce, Mauro Senise, Gilson Peranzeta, Carlos Malta e Roberta Sá para versões exclusivas de seu repertório."
        ],
        [
         "19",
         "70 Anos de Edu Lobo",
         "2025-04-22 14:55:00",
         "Music",
         "Em estúdio, Edu Lobo recebe seus amigos Joyce, Mauro Senise, Gilson Peranzeta, Carlos Malta e Roberta Sá para versões exclusivas de seu repertório."
        ],
        [
         "20",
         "70 Anos de Edu Lobo",
         "2025-04-22 15:25:00",
         "Music",
         "Em estúdio, Edu Lobo recebe seus amigos Joyce, Mauro Senise, Gilson Peranzeta, Carlos Malta e Roberta Sá para versões exclusivas de seu repertório."
        ],
        [
         "21",
         "Cantoras Portuguesas",
         "2025-04-22 15:50:00",
         "Entertainment",
         "Forte e autêntica, Simone de Oliveira comenta as vitórias da mulher portuguesa e do seu trabalho com Amália Rodrigues. Ela revela também não trocar a voz de cantora pela antiga voz de locutora que já teve."
        ],
        [
         "22",
         "Guard Dog & Bill Plympton no Brasil",
         "2025-04-22 16:05:00",
         "Children",
         "Um ansioso e neurótico cãozinho se desgarra de seu dono Plympton e parte rumo a pequenas aventuras ao chegar no Brasil."
        ],
        [
         "23",
         "Remendo",
         "2025-04-22 16:10:00",
         "Drama / 2023",
         "Zé é um homem negro de meia-idade que tem uma oficina de eletrodomésticos na periferia e está em busca de amor. Enquanto uma nova inquilina chega ao prédio de sua mãe, ele recorre a divindades para tentar resolver seus problemas amorosos e sua autoestima, enfrentando os traumas invisíveis do colonialismo para encontrar um novo tipo de liberdade."
        ],
        [
         "24",
         "Arte na Capa",
         "2025-04-22 16:35:00",
         "Music",
         "Os bastidores da criação, histórias e curiosidades de capas de discos brasileiros clássicas."
        ],
        [
         "25",
         "Fado Tropical",
         "2025-04-22 16:40:00",
         "Drama / 2019",
         "Após anos separados, os irmãos brasileiros Isabel e Antonio se reencontram na cidade de Lisboa. Agora, a dupla decide embarcar em uma viagem emocionante pelo país natal de seu pai, que faleceu recentemente."
        ],
        [
         "26",
         "Cantoras Portuguesas",
         "2025-04-22 18:15:00",
         "Entertainment",
         "Forte e autêntica, Simone de Oliveira comenta as vitórias da mulher portuguesa e do seu trabalho com Amália Rodrigues. Ela revela também não trocar a voz de cantora pela antiga voz de locutora que já teve."
        ],
        [
         "27",
         "Você",
         "2025-04-22 18:30:00",
         "Drama / 2024 / 5.4",
         "Por meio de uma conversa telefônica com a delegada, uma mãe revisita memórias sobre a convivência com o pai de sua filha enquanto elas discorrem sobre as ausências às quais ele foi condicionado."
        ],
        [
         "28",
         "Choque de Cultura",
         "2025-04-22 18:45:00",
         "Temporada 6 Episódio 7 - Brasil Contra o Resto do Mundo",
         "Neste embate do século, o cinema brasileiro enfrenta a sétima arte do resto do mundo em clima de mata-mata, cachorro invadindo o campo e apedrejamento de ônibus."
        ],
        [
         "29",
         "Mito e Música - A Mensagem de Fernando Pessoa",
         "2025-04-22 19:00:00",
         "Documentary / 2018",
         "O documentário aborda o projeto, que levou 30 anos para ser finalizado, sobre a gravação de 44 músicas criadas para cada poema de Mensagem, um dos livros mais emblemáticos de Fernando Pessoa."
        ],
        [
         "30",
         "Cantoras Portuguesas",
         "2025-04-22 20:35:00",
         "Entertainment",
         "Forte e autêntica, Simone de Oliveira comenta as vitórias da mulher portuguesa e do seu trabalho com Amália Rodrigues. Ela revela também não trocar a voz de cantora pela antiga voz de locutora que já teve."
        ],
        [
         "31",
         "A Bela América",
         "2025-04-22 20:50:00",
         "Comedy / 2023",
         "O cozinheiro Lucas entra na casa de América, estrela de televisão e candidata presidencial, para seduzi-la com refeições extraordinárias."
        ],
        [
         "32",
         "Cantoras Portuguesas",
         "2025-04-22 22:35:00",
         "Entertainment",
         "Forte e autêntica, Simone de Oliveira comenta as vitórias da mulher portuguesa e do seu trabalho com Amália Rodrigues. Ela revela também não trocar a voz de cantora pela antiga voz de locutora que já teve."
        ],
        [
         "33",
         "Greice",
         "2025-04-22 22:55:00",
         "Comedy drama / 2024",
         "Greice, uma jovem brasileira de 21 anos, estuda na Universidade de Belas Artes de Lisboa. Ela se envolve com o misterioso Afonso. E depois de uma festa de boas-vindas para os novos estudantes, o casal é acusado de um estranho acidente que ocorreu no evento. Greice precisa retornar a Fortaleza, sua cidade natal, para renovar a autorização de residência. Escondida em um hotel, enquanto evita que a mãe descubra os problemas em que se envolveu, Greice tenta encontrar um lugar de conforto no mundo."
        ],
        [
         "34",
         "Pornolândia",
         "2025-04-22 00:45:00",
         "Adults only",
         "Márcia Dailyn fala sobre a sua trajetória até se tornar a primeira bailarina transexual do Theatro Municipal de São Paulo e destaca as dificuldades em ser uma artista no Brasil."
        ],
        [
         "35",
         "A Noite das Taras",
         "2025-04-22 01:00:00",
         "Drama / 1980",
         "Três marinheiros tiram um dia de folga em São Paulo. Um deles tem que entregar uma carta a uma misteriosa mulher; o outro descobre que está sendo seguido por marginais e o terceiro conhece algumas moças prontas para uma maratona mortal de sexo."
        ],
        [
         "36",
         "502",
         "2025-04-22 02:25:00",
         "Temporada 1 Episódio 27 - Lino",
         "Lino fala sobre o processo de exposição que está vivendo, a relação ruim com a irmã por conta de sua orientação sexual e o momento em que se afundou nas drogas após a morte dos pais."
        ],
        [
         "37",
         "Exorcismo Negro",
         "2025-04-22 02:40:00",
         "Horror / 1974",
         "O cineasta José Mojica Marins decide passar o fim de semana na casa de campo de seu amigo Álvaro para escrever um roteiro. Após sua chegada, a família do amigo começa a agir de maneira estranha e violenta como se estivesse possuída pelo demônio. Para exorcizar o mal, é necessário realizar um ritual em uma câmara de tortura. Mojica entra em um confronto violento e inusitado com o seu próprio personagem, Zé do Caixão."
        ],
        [
         "38",
         "Sobrepostas - Corpo e Desejo",
         "2025-04-22 04:15:00",
         "Temporada 2 Episódio 7 - Geni Núñez",
         "A ativista indígena Geni Núñez fala de como a evangelização afetou a sua vida, destaca a busca por relações potáveis e comenta que alguns desvios foram muito saudáveis para o seu crescimento."
        ],
        [
         "39",
         "Vizinhos",
         "2025-04-22 04:30:00",
         "Temporada 1 Episódio 9 - Fronteira",
         "O sagrado churrasco em família de Rogério é interrompido por um vizinho folgado e sua música alta."
        ],
        [
         "40",
         "Rota de Fuga",
         "2025-04-22 05:00:00",
         "Thriller / 2016",
         "Manuela denuncia o marido para a Polícia Federal e entra no programa de proteção a testemunhas. Feito isso, ela abandona tudo e tenta fugir pra Europa antes que ele seja solto."
        ],
        [
         "41",
         "Cinejornal",
         "2025-04-23 06:00:00",
         "Art",
         "O cinema brasileiro em pauta com as novidades e os bastidores da produção nacional, entrevistas com atores e diretores e a cobertura completa de festivais importantes em todo o país."
        ],
        [
         "42",
         "Esquinas - Pílulas",
         "2025-04-23 06:15:00",
         "Documentary",
         "Reportagens documentais inspiradas na seção homônima da Revista Piauí. Personagens e eventos peculiares são colhidos pelos quatro cantos do país com uma abordagem inovadora."
        ],
        [
         "43",
         "4 Bilhões de Infinitos",
         "2025-04-23 06:30:00",
         "Drama / 2020",
         "Após a morte do pai, uma família vive com a energia de casa cortada. Enquanto a mãe trabalha, seus filhos ficam em casa e conversam sobre ter esperança."
        ],
        [
         "44",
         "Ainda Restarão Robôs nas Ruas do Interior Profundo",
         "2025-04-23 06:44:00",
         "Drama / 2022",
         "Na periferia do interior profundo brasileiro, Luquinha tenta recuperar sua égua enquanto convive com o crime e o barulho ensurdecedor de uma cidade conservadora."
        ],
        [
         "45",
         "Guard Dog & Bill Plympton no Brasil",
         "2025-04-23 07:00:00",
         "Children",
         "Um ansioso e neurótico cãozinho se desgarra de seu dono Plympton e parte rumo a pequenas aventuras ao chegar no Brasil."
        ],
        [
         "46",
         "Vinicius",
         "2025-04-23 07:05:00",
         "Documentary / 2005 / 7.9",
         "Reconstituição da vida e trajetória artística do músico, poeta e diplomata Vinicius de Moraes, com depoimentos de amigos, familiares e colegas, imagens raras de arquivo, inserções de shows variados e trechos de um pocket show em sua homenagem."
        ],
        [
         "47",
         "Ademã - A Vida e as Notas de Ibrahim Sued",
         "2025-04-23 09:10:00",
         "Documentary / 2022",
         "Conheça a trajetória de Ibrahim Sued, jornalista que revolucionou a imprensa brasileira durante os quase 50 anos de carreira, por meio de entrevistas, fotos e filmes do arquivo pessoal de sua filha, Isabel Sued Perrin."
        ],
        [
         "48",
         "Guard Dog & Bill Plympton no Brasil",
         "2025-04-23 10:55:00",
         "Children",
         "Um ansioso e neurótico cãozinho se desgarra de seu dono Plympton e parte rumo a pequenas aventuras ao chegar no Brasil."
        ],
        [
         "49",
         "Cristais de Sangue",
         "2025-04-23 11:00:00",
         "Drama / 1975",
         "Rui chega em uma cidadezinha procurando o pai. Antes disso, ele se envolve com uma moça, que tem problemas na família. O padrasto da moça é o chefe de uma quadrilha e não mede esforços para que Rui não encontre seu pai."
        ]
       ],
       "shape": {
        "columns": 4,
        "rows": 187
       }
      },
      "text/html": [
       "<div>\n",
       "<style scoped>\n",
       "    .dataframe tbody tr th:only-of-type {\n",
       "        vertical-align: middle;\n",
       "    }\n",
       "\n",
       "    .dataframe tbody tr th {\n",
       "        vertical-align: top;\n",
       "    }\n",
       "\n",
       "    .dataframe thead th {\n",
       "        text-align: right;\n",
       "    }\n",
       "</style>\n",
       "<table border=\"1\" class=\"dataframe\">\n",
       "  <thead>\n",
       "    <tr style=\"text-align: right;\">\n",
       "      <th></th>\n",
       "      <th>titulo</th>\n",
       "      <th>datetime</th>\n",
       "      <th>genero_ano</th>\n",
       "      <th>sinopse</th>\n",
       "    </tr>\n",
       "  </thead>\n",
       "  <tbody>\n",
       "    <tr>\n",
       "      <th>0</th>\n",
       "      <td>Fantasma Neon</td>\n",
       "      <td>2025-04-22 06:00:00</td>\n",
       "      <td>Musical / 2021</td>\n",
       "      <td>João é um entregador de aplicativo que sonha e...</td>\n",
       "    </tr>\n",
       "    <tr>\n",
       "      <th>1</th>\n",
       "      <td>Guard Dog &amp; Bill Plympton no Brasil</td>\n",
       "      <td>2025-04-22 06:23:00</td>\n",
       "      <td>Children</td>\n",
       "      <td>Um ansioso e neurótico cãozinho se desgarra de...</td>\n",
       "    </tr>\n",
       "    <tr>\n",
       "      <th>2</th>\n",
       "      <td>Cantoras Portuguesas</td>\n",
       "      <td>2025-04-22 06:30:00</td>\n",
       "      <td>Entertainment</td>\n",
       "      <td>Forte e autêntica, Simone de Oliveira comenta ...</td>\n",
       "    </tr>\n",
       "    <tr>\n",
       "      <th>3</th>\n",
       "      <td>Portugal... Minha Saudade</td>\n",
       "      <td>2025-04-22 06:45:00</td>\n",
       "      <td>Comedy / 1974 / 5.5</td>\n",
       "      <td>Os gêmeos Sabino e Agostinho vivem separados u...</td>\n",
       "    </tr>\n",
       "    <tr>\n",
       "      <th>4</th>\n",
       "      <td>Guard Dog &amp; Bill Plympton no Brasil</td>\n",
       "      <td>2025-04-22 08:30:00</td>\n",
       "      <td>Children</td>\n",
       "      <td>Um ansioso e neurótico cãozinho se desgarra de...</td>\n",
       "    </tr>\n",
       "    <tr>\n",
       "      <th>...</th>\n",
       "      <td>...</td>\n",
       "      <td>...</td>\n",
       "      <td>...</td>\n",
       "      <td>...</td>\n",
       "    </tr>\n",
       "    <tr>\n",
       "      <th>182</th>\n",
       "      <td>Guard Dog &amp; Bill Plympton no Brasil</td>\n",
       "      <td>2025-04-27 03:55:00</td>\n",
       "      <td>Children</td>\n",
       "      <td>Um ansioso e neurótico cãozinho se desgarra de...</td>\n",
       "    </tr>\n",
       "    <tr>\n",
       "      <th>183</th>\n",
       "      <td>Vizinhos</td>\n",
       "      <td>2025-04-27 04:00:00</td>\n",
       "      <td>Temporada 1 Episódio 10 - Os Outros</td>\n",
       "      <td>A chegada de uma família de hippies em um cond...</td>\n",
       "    </tr>\n",
       "    <tr>\n",
       "      <th>184</th>\n",
       "      <td>Bonde</td>\n",
       "      <td>2025-04-27 04:30:00</td>\n",
       "      <td>Drama / 2019</td>\n",
       "      <td>Três jovens negros da favela de Heliópolis sae...</td>\n",
       "    </tr>\n",
       "    <tr>\n",
       "      <th>185</th>\n",
       "      <td>Os Mutantes</td>\n",
       "      <td>2025-04-27 04:49:00</td>\n",
       "      <td>Drama / 1970</td>\n",
       "      <td>Uma brincadeira mutante improvisada por Arnald...</td>\n",
       "    </tr>\n",
       "    <tr>\n",
       "      <th>186</th>\n",
       "      <td>Jards</td>\n",
       "      <td>2025-04-27 05:00:00</td>\n",
       "      <td>Documentary / 2013</td>\n",
       "      <td>A vida e a obra do cantor, músico e ator Jards...</td>\n",
       "    </tr>\n",
       "  </tbody>\n",
       "</table>\n",
       "<p>187 rows × 4 columns</p>\n",
       "</div>"
      ],
      "text/plain": [
       "                                  titulo            datetime  \\\n",
       "0                          Fantasma Neon 2025-04-22 06:00:00   \n",
       "1    Guard Dog & Bill Plympton no Brasil 2025-04-22 06:23:00   \n",
       "2                   Cantoras Portuguesas 2025-04-22 06:30:00   \n",
       "3              Portugal... Minha Saudade 2025-04-22 06:45:00   \n",
       "4    Guard Dog & Bill Plympton no Brasil 2025-04-22 08:30:00   \n",
       "..                                   ...                 ...   \n",
       "182  Guard Dog & Bill Plympton no Brasil 2025-04-27 03:55:00   \n",
       "183                             Vizinhos 2025-04-27 04:00:00   \n",
       "184                                Bonde 2025-04-27 04:30:00   \n",
       "185                          Os Mutantes 2025-04-27 04:49:00   \n",
       "186                                Jards 2025-04-27 05:00:00   \n",
       "\n",
       "                              genero_ano  \\\n",
       "0                         Musical / 2021   \n",
       "1                               Children   \n",
       "2                          Entertainment   \n",
       "3                    Comedy / 1974 / 5.5   \n",
       "4                               Children   \n",
       "..                                   ...   \n",
       "182                             Children   \n",
       "183  Temporada 1 Episódio 10 - Os Outros   \n",
       "184                         Drama / 2019   \n",
       "185                         Drama / 1970   \n",
       "186                   Documentary / 2013   \n",
       "\n",
       "                                               sinopse  \n",
       "0    João é um entregador de aplicativo que sonha e...  \n",
       "1    Um ansioso e neurótico cãozinho se desgarra de...  \n",
       "2    Forte e autêntica, Simone de Oliveira comenta ...  \n",
       "3    Os gêmeos Sabino e Agostinho vivem separados u...  \n",
       "4    Um ansioso e neurótico cãozinho se desgarra de...  \n",
       "..                                                 ...  \n",
       "182  Um ansioso e neurótico cãozinho se desgarra de...  \n",
       "183  A chegada de uma família de hippies em um cond...  \n",
       "184  Três jovens negros da favela de Heliópolis sae...  \n",
       "185  Uma brincadeira mutante improvisada por Arnald...  \n",
       "186  A vida e a obra do cantor, músico e ator Jards...  \n",
       "\n",
       "[187 rows x 4 columns]"
      ]
     },
     "execution_count": 13,
     "metadata": {},
     "output_type": "execute_result"
    }
   ],
   "source": [
    "df[['titulo', 'datetime', 'genero_ano', 'sinopse']]"
   ]
  }
 ],
 "metadata": {
  "kernelspec": {
   "display_name": ".venv",
   "language": "python",
   "name": "python3"
  },
  "language_info": {
   "codemirror_mode": {
    "name": "ipython",
    "version": 3
   },
   "file_extension": ".py",
   "mimetype": "text/x-python",
   "name": "python",
   "nbconvert_exporter": "python",
   "pygments_lexer": "ipython3",
   "version": "3.13.3"
  }
 },
 "nbformat": 4,
 "nbformat_minor": 5
}
